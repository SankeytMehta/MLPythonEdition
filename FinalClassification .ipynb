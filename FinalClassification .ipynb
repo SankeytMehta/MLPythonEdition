{
 "cells": [
  {
   "cell_type": "code",
   "execution_count": 203,
   "metadata": {},
   "outputs": [],
   "source": [
    "from sklearn.neural_network import MLPClassifier\n",
    "from sklearn import svm, preprocessing\n",
    "from sklearn.naive_bayes import GaussianNB, BernoulliNB\n",
    "\n",
    "import sklearn.metrics as sklm\n",
    "\n",
    "from sklearn import linear_model\n",
    "#from statsmodels.api import datasets\n",
    "from sklearn import datasets ## Get dataset from sklearn\n",
    "import sklearn.model_selection as ms\n",
    "import sklearn.metrics as sklm\n",
    "import matplotlib.pyplot as plt\n",
    "import pandas as pd\n",
    "import numpy as np\n",
    "import numpy.random as nr\n",
    "from dateutil.relativedelta import relativedelta\n",
    "\n",
    "import math\n",
    "\n",
    "%matplotlib inline"
   ]
  },
  {
   "cell_type": "markdown",
   "metadata": {},
   "source": [
    "<h3>Import csv file the first column is Index</h3>"
   ]
  },
  {
   "cell_type": "code",
   "execution_count": 204,
   "metadata": {},
   "outputs": [],
   "source": [
    "AdvWorksCustsFinal = pd.read_csv('AWCustFinal.csv',index_col='CustomerID')"
   ]
  },
  {
   "cell_type": "code",
   "execution_count": 205,
   "metadata": {},
   "outputs": [],
   "source": [
    "#AdvWorksCustsFinal.rename(index=AdvWorksCustsFinal, columns={\"ageat1998\": \"Age\"})"
   ]
  },
  {
   "cell_type": "code",
   "execution_count": 206,
   "metadata": {},
   "outputs": [
    {
     "name": "stdout",
     "output_type": "stream",
     "text": [
      "<class 'pandas.core.frame.DataFrame'>\n",
      "Int64Index: 16404 entries, 11000 to 18982\n",
      "Data columns (total 14 columns):\n",
      "Unnamed: 0              16404 non-null int64\n",
      "CountryRegionName       16404 non-null object\n",
      "Education               16404 non-null object\n",
      "Occupation              16404 non-null object\n",
      "Gender                  16404 non-null object\n",
      "MaritalStatus           16404 non-null object\n",
      "HomeOwnerFlag           16404 non-null int64\n",
      "NumberCarsOwned         16404 non-null int64\n",
      "NumberChildrenAtHome    16404 non-null int64\n",
      "TotalChildren           16404 non-null int64\n",
      "YearlyIncome            16404 non-null int64\n",
      "BikeBuyer               16404 non-null int64\n",
      "ageat1998               16404 non-null int64\n",
      "AveMonthSpendLog        16404 non-null float64\n",
      "dtypes: float64(1), int64(8), object(5)\n",
      "memory usage: 1.9+ MB\n"
     ]
    }
   ],
   "source": [
    "AdvWorksCustsFinal.info()"
   ]
  },
  {
   "cell_type": "code",
   "execution_count": 207,
   "metadata": {},
   "outputs": [],
   "source": [
    "AdvWorksCustsFinal.drop(['Unnamed: 0','AveMonthSpendLog'],axis = 1,inplace=True,)"
   ]
  },
  {
   "cell_type": "code",
   "execution_count": 208,
   "metadata": {
    "scrolled": true
   },
   "outputs": [
    {
     "name": "stdout",
     "output_type": "stream",
     "text": [
      "<class 'pandas.core.frame.DataFrame'>\n",
      "Int64Index: 16404 entries, 11000 to 18982\n",
      "Data columns (total 12 columns):\n",
      "CountryRegionName       16404 non-null object\n",
      "Education               16404 non-null object\n",
      "Occupation              16404 non-null object\n",
      "Gender                  16404 non-null object\n",
      "MaritalStatus           16404 non-null object\n",
      "HomeOwnerFlag           16404 non-null int64\n",
      "NumberCarsOwned         16404 non-null int64\n",
      "NumberChildrenAtHome    16404 non-null int64\n",
      "TotalChildren           16404 non-null int64\n",
      "YearlyIncome            16404 non-null int64\n",
      "BikeBuyer               16404 non-null int64\n",
      "ageat1998               16404 non-null int64\n",
      "dtypes: int64(7), object(5)\n",
      "memory usage: 1.6+ MB\n"
     ]
    }
   ],
   "source": [
    "AdvWorksCustsFinal.info()"
   ]
  },
  {
   "cell_type": "code",
   "execution_count": 209,
   "metadata": {},
   "outputs": [
    {
     "data": {
      "text/plain": [
       "0    10949\n",
       "1     5455\n",
       "Name: BikeBuyer, dtype: int64"
      ]
     },
     "execution_count": 209,
     "metadata": {},
     "output_type": "execute_result"
    }
   ],
   "source": [
    "AdvWorksCustsFinal['BikeBuyer'].value_counts()"
   ]
  },
  {
   "cell_type": "code",
   "execution_count": 210,
   "metadata": {},
   "outputs": [],
   "source": [
    "categorical_columns = ['CountryRegionName', 'Education', 'Occupation', 'Gender', 'MaritalStatus','HomeOwnerFlag']\n",
    "numerical_columns =  ['NumberCarsOwned', 'NumberChildrenAtHome', 'TotalChildren', 'YearlyIncome', 'ageat1998']"
   ]
  },
  {
   "cell_type": "code",
   "execution_count": 211,
   "metadata": {},
   "outputs": [
    {
     "data": {
      "text/plain": [
       "(16404,)"
      ]
     },
     "execution_count": 211,
     "metadata": {},
     "output_type": "execute_result"
    }
   ],
   "source": [
    "Labels=np.array(AdvWorksCustsFinal['BikeBuyer'])\n",
    "Labels.shape"
   ]
  },
  {
   "cell_type": "code",
   "execution_count": 212,
   "metadata": {},
   "outputs": [
    {
     "name": "stdout",
     "output_type": "stream",
     "text": [
      "\n",
      "For column CountryRegionName\n",
      "United States     6935\n",
      "Australia         3194\n",
      "United Kingdom    1709\n",
      "France            1591\n",
      "Germany           1577\n",
      "Canada            1398\n",
      "Name: CountryRegionName, dtype: int64\n",
      "\n",
      "For column Education\n",
      "Bachelors              4758\n",
      "Partial College        4451\n",
      "High School            2944\n",
      "Graduate Degree        2851\n",
      "Partial High School    1400\n",
      "Name: Education, dtype: int64\n",
      "\n",
      "For column Occupation\n",
      "Professional      4922\n",
      "Skilled Manual    4038\n",
      "Management        2718\n",
      "Clerical          2597\n",
      "Manual            2129\n",
      "Name: Occupation, dtype: int64\n",
      "\n",
      "For column Gender\n",
      "M    8290\n",
      "F    8114\n",
      "Name: Gender, dtype: int64\n",
      "\n",
      "For column MaritalStatus\n",
      "M    8852\n",
      "S    7552\n",
      "Name: MaritalStatus, dtype: int64\n",
      "\n",
      "For column HomeOwnerFlag\n",
      "1    11058\n",
      "0     5346\n",
      "Name: HomeOwnerFlag, dtype: int64\n"
     ]
    }
   ],
   "source": [
    "def count_unique(AdvWorksCustsFinal, cols):\n",
    "    for col in cols:\n",
    "        print('\\n' + 'For column ' + col)\n",
    "        print(AdvWorksCustsFinal[col].value_counts())\n",
    "        \n",
    "count_unique(AdvWorksCustsFinal, categorical_columns)"
   ]
  },
  {
   "cell_type": "code",
   "execution_count": 213,
   "metadata": {
    "scrolled": true
   },
   "outputs": [
    {
     "data": {
      "text/plain": [
       "'def encode_string(cat_features):\\n    ## First encode the strings to numeric categories\\n    enc = preprocessing.LabelEncoder()\\n    enc.fit(cat_features)\\n    enc_cat_features = enc.transform(cat_features)\\n    ## Now, apply one hot encoding\\n    ohe = preprocessing.OneHotEncoder()\\n    encoded = ohe.fit(enc_cat_features.reshape(-1,1))\\n    return encoded.transform(enc_cat_features.reshape(-1,1)).toarray()\\n\\n\\nFeatures = encode_string(AdvWorksCustsFinal[categorical_columns[0]])\\n\\nprint(Features)\\n\\nfor col in categorical_columns[1:]:\\n    temp = encode_string(AdvWorksCustsFinal[col])\\n    Features = np.concatenate([Features, temp], axis = 1)\\n\\nprint(Features.shape)\\nprint(Features[:2, :])'"
      ]
     },
     "execution_count": 213,
     "metadata": {},
     "output_type": "execute_result"
    }
   ],
   "source": [
    "'''def encode_string(cat_features):\n",
    "    ## First encode the strings to numeric categories\n",
    "    enc = preprocessing.LabelEncoder()\n",
    "    enc.fit(cat_features)\n",
    "    enc_cat_features = enc.transform(cat_features)\n",
    "    ## Now, apply one hot encoding\n",
    "    ohe = preprocessing.OneHotEncoder()\n",
    "    encoded = ohe.fit(enc_cat_features.reshape(-1,1))\n",
    "    return encoded.transform(enc_cat_features.reshape(-1,1)).toarray()\n",
    "\n",
    "\n",
    "Features = encode_string(AdvWorksCustsFinal[categorical_columns[0]])\n",
    "\n",
    "print(Features)\n",
    "\n",
    "for col in categorical_columns[1:]:\n",
    "    temp = encode_string(AdvWorksCustsFinal[col])\n",
    "    Features = np.concatenate([Features, temp], axis = 1)\n",
    "\n",
    "print(Features.shape)\n",
    "print(Features[:2, :])'''"
   ]
  },
  {
   "cell_type": "markdown",
   "metadata": {},
   "source": [
    "**Encode categorical data**\n",
    "\n",
    "Now, you need to create the numpy feature array or model matrix. As first step, the categorical variables need to be recoded as binary dummy variables. As discussed in another lesson this is a three step process:\n",
    "\n",
    "    Encode the categorical string variables as integers.\n",
    "    Transform the integer coded variables to dummy variables.\n",
    "    Append each dummy coded categorical variable to the model matrix.\n",
    "\n",
    "Execute the code in the cell below to perform this processing and examine the results."
   ]
  },
  {
   "cell_type": "code",
   "execution_count": 214,
   "metadata": {
    "scrolled": true
   },
   "outputs": [
    {
     "name": "stdout",
     "output_type": "stream",
     "text": [
      "(16404, 22)\n",
      "[[1. 0. 0. 0. 0. 0. 1. 0. 0. 0. 0. 0. 0. 0. 1. 0. 0. 1. 1. 0. 0. 1.]\n",
      " [1. 0. 0. 0. 0. 0. 1. 0. 0. 0. 0. 0. 0. 0. 1. 0. 0. 1. 0. 1. 1. 0.]]\n"
     ]
    }
   ],
   "source": [
    "# Encode categorical data\n",
    "def encode_string(cat_features):\n",
    "    \n",
    "    ## First encode the strings to numeric categories\n",
    "    enc = preprocessing.LabelEncoder()\n",
    "    enc.fit(cat_features)\n",
    "    enc_cat_features = enc.transform(cat_features)\n",
    "    \n",
    "    ## Now, apply one hot encoding\n",
    "    ohe = preprocessing.OneHotEncoder()\n",
    "    encoded = ohe.fit(enc_cat_features.reshape(-1,1))\n",
    "    return encoded.transform(enc_cat_features.reshape(-1,1)).toarray()\n",
    "\n",
    "categorical_columns = ['Education','Occupation',\n",
    "                       'Gender','MaritalStatus','HomeOwnerFlag']\n",
    "\n",
    "Features = encode_string(AdvWorksCustsFinal['CountryRegionName'])\n",
    "\n",
    "for col in categorical_columns:\n",
    "    temp = encode_string(AdvWorksCustsFinal[col])\n",
    "    Features = np.concatenate([Features, temp], axis = 1)\n",
    "    \n",
    "print(Features.shape)\n",
    "print(Features[:2, :])"
   ]
  },
  {
   "cell_type": "markdown",
   "metadata": {},
   "source": [
    "**Concatenate the features after the encoded categorical variables**"
   ]
  },
  {
   "cell_type": "code",
   "execution_count": 215,
   "metadata": {},
   "outputs": [
    {
     "name": "stdout",
     "output_type": "stream",
     "text": [
      "[[1.00000e+00 0.00000e+00 0.00000e+00 0.00000e+00 0.00000e+00 0.00000e+00\n",
      "  1.00000e+00 0.00000e+00 0.00000e+00 0.00000e+00 0.00000e+00 0.00000e+00\n",
      "  0.00000e+00 0.00000e+00 1.00000e+00 0.00000e+00 0.00000e+00 1.00000e+00\n",
      "  1.00000e+00 0.00000e+00 0.00000e+00 1.00000e+00 0.00000e+00 0.00000e+00\n",
      "  2.00000e+00 1.37947e+05 3.20000e+01]]\n",
      "(16404, 27)\n"
     ]
    }
   ],
   "source": [
    "Features = np.concatenate([Features, np.array(AdvWorksCustsFinal[numerical_columns])], axis = 1)\n",
    "print(Features[:1,:])\n",
    "print(Features.shape)"
   ]
  },
  {
   "cell_type": "markdown",
   "metadata": {},
   "source": [
    "**Use train_test_split to split the data**\n",
    "\n",
    "You must split the cases into training and test data sets. This step is critical. If machine learning models are tested on the training data, the results will be both biased and overly optimistic.\n",
    "\n",
    "The code in the cell below performs the following processing:\n",
    "1. An index vector is Bernoulli sampled using the `train_test_split` function from the `model_selection` package of scikit-learn. \n",
    "2. The first column of the resulting index array contains the indices of the samples for the training cases. \n",
    "3. The second column of the resulting index array contains the indices of the samples for the test cases. \n",
    "\n",
    "Execute the code. "
   ]
  },
  {
   "cell_type": "code",
   "execution_count": 216,
   "metadata": {},
   "outputs": [],
   "source": [
    "## Randomly sample cases to create independent training and test data\n",
    "nr.seed(9988)\n",
    "indx = range(Features.shape[0])\n",
    "indx = ms.train_test_split(indx, test_size = 0.3)\n",
    "X_train = Features[indx[0],:]\n",
    "y_train = np.ravel(Labels[indx[0]])\n",
    "X_test = Features[indx[1],:]\n",
    "y_test = np.ravel(Labels[indx[1]])"
   ]
  },
  {
   "cell_type": "markdown",
   "metadata": {},
   "source": [
    "There is just one more step in preparing this data. Numeric features must be rescaled so they have a similar range of values. Rescaling prevents features from having an undue influence on model training simply because then have a larger range of numeric variables.\n",
    "\n",
    "The code in the cell below uses the StanardScaler function from the Scikit Learn preprocessing package to Zscore scale the numeric features. Notice that the scaler is fit only on the training data. The trained scaler is these applied to the test data. Test data should always be scaled using the parameters from the training data.\n",
    "\n",
    "Execute this code."
   ]
  },
  {
   "cell_type": "code",
   "execution_count": 217,
   "metadata": {},
   "outputs": [
    {
     "data": {
      "text/plain": [
       "array([[ 1.        ,  0.        ,  0.        ,  0.        ,  0.        ,\n",
       "         0.        ,  0.        ,  1.        ,  0.        ,  0.        ,\n",
       "         0.        ,  0.        ,  1.        ,  0.        ,  0.        ,\n",
       "         0.        ,  1.        ,  0.        ,  0.        ,  1.        ,\n",
       "         1.        ,  0.        ,  1.        , -0.65184617, -0.00242815,\n",
       "        -0.06006319,  1.74376142]])"
      ]
     },
     "execution_count": 217,
     "metadata": {},
     "output_type": "execute_result"
    }
   ],
   "source": [
    "scaler = preprocessing.StandardScaler().fit(X_train[:,23:])\n",
    "X_train[:,23:] = scaler.transform(X_train[:,23:])\n",
    "X_test[:,23:] = scaler.transform(X_test[:,23:])\n",
    "X_train[:1,]"
   ]
  },
  {
   "cell_type": "code",
   "execution_count": 218,
   "metadata": {},
   "outputs": [
    {
     "data": {
      "text/plain": [
       "(4922, 27)"
      ]
     },
     "execution_count": 218,
     "metadata": {},
     "output_type": "execute_result"
    }
   ],
   "source": [
    "X_test.shape"
   ]
  },
  {
   "cell_type": "code",
   "execution_count": 219,
   "metadata": {},
   "outputs": [
    {
     "data": {
      "text/plain": [
       "(11482, 27)"
      ]
     },
     "execution_count": 219,
     "metadata": {},
     "output_type": "execute_result"
    }
   ],
   "source": [
    "X_train.shape"
   ]
  },
  {
   "cell_type": "markdown",
   "metadata": {},
   "source": [
    "**Logistic Regression**"
   ]
  },
  {
   "cell_type": "code",
   "execution_count": 220,
   "metadata": {},
   "outputs": [],
   "source": [
    "logistic_mod = linear_model.LogisticRegression() \n",
    "logistic_mod.fit(X_train, y_train)\n",
    "probabilities = logistic_mod.predict_proba(X_test)\n",
    "def score_model(probs, threshold):\n",
    "    return np.array([1 if x > threshold else 0 for x in probs[:,1]])\n",
    "scores = score_model(probabilities, 0.5)\n",
    "#print(np.array(scores[:15]))\n",
    "#print(y_test[:15])"
   ]
  },
  {
   "cell_type": "code",
   "execution_count": 221,
   "metadata": {
    "scrolled": false
   },
   "outputs": [
    {
     "name": "stdout",
     "output_type": "stream",
     "text": [
      "                 Confusion matrix\n",
      "                 Score positive    Score negative\n",
      "Actual positive      2959               345\n",
      "Actual negative       712               906\n",
      "\n",
      "Accuracy  0.79\n",
      " \n",
      "           Positive      Negative\n",
      "Num case     3304          1618\n",
      "Precision    0.81          0.72\n",
      "Recall       0.90          0.56\n",
      "F1           0.85          0.63\n"
     ]
    }
   ],
   "source": [
    "def print_metrics(labels, scores):\n",
    "    metrics = sklm.precision_recall_fscore_support(labels, scores)\n",
    "    conf = sklm.confusion_matrix(labels, scores)\n",
    "    print('                 Confusion matrix')\n",
    "    print('                 Score positive    Score negative')\n",
    "    print('Actual positive    %6d' % conf[0,0] + '             %5d' % conf[0,1])\n",
    "    print('Actual negative    %6d' % conf[1,0] + '             %5d' % conf[1,1])\n",
    "    print('')\n",
    "    print('Accuracy  %0.2f' % sklm.accuracy_score(labels, scores))\n",
    "    print(' ')\n",
    "    print('           Positive      Negative')\n",
    "    print('Num case   %6d' % metrics[3][0] + '        %6d' % metrics[3][1])\n",
    "    print('Precision  %6.2f' % metrics[0][0] + '        %6.2f' % metrics[0][1])\n",
    "    print('Recall     %6.2f' % metrics[1][0] + '        %6.2f' % metrics[1][1])\n",
    "    print('F1         %6.2f' % metrics[2][0] + '        %6.2f' % metrics[2][1])\n",
    "\n",
    "\n",
    "    \n",
    "print_metrics(y_test, scores)  "
   ]
  },
  {
   "cell_type": "code",
   "execution_count": 222,
   "metadata": {
    "scrolled": true
   },
   "outputs": [
    {
     "data": {
      "image/png": "[encoded data removed]",
      "text/plain": [
       "<Figure size 432x288 with 1 Axes>"
      ]
     },
     "metadata": {
      "needs_background": "light"
     },
     "output_type": "display_data"
    }
   ],
   "source": [
    "def plot_auc(labels, probs):\n",
    "    ## Compute the false positive rate, true positive rate\n",
    "    ## and threshold along with the AUC\n",
    "    fpr, tpr, threshold = sklm.roc_curve(labels, probs[:,1])\n",
    "    auc = sklm.auc(fpr, tpr)\n",
    "    \n",
    "    ## Plot the result\n",
    "    plt.title('Receiver Operating Characteristic')\n",
    "    plt.plot(fpr, tpr, color = 'orange', label = 'AUC = %0.2f' % auc)\n",
    "    plt.legend(loc = 'lower right')\n",
    "    plt.plot([0, 1], [0, 1],'r--')\n",
    "    plt.xlim([0, 1])\n",
    "    plt.ylim([0, 1])\n",
    "    plt.ylabel('True Positive Rate')\n",
    "    plt.xlabel('False Positive Rate')\n",
    "    plt.show()\n",
    "    \n",
    "plot_auc(y_test, probabilities)  "
   ]
  },
  {
   "cell_type": "code",
   "execution_count": 223,
   "metadata": {},
   "outputs": [
    {
     "data": {
      "text/plain": [
       "LogisticRegression(C=1.0, class_weight={0: 0.45, 1: 0.55}, dual=False,\n",
       "          fit_intercept=True, intercept_scaling=1, max_iter=100,\n",
       "          multi_class='ovr', n_jobs=1, penalty='l2', random_state=None,\n",
       "          solver='liblinear', tol=0.0001, verbose=0, warm_start=False)"
      ]
     },
     "execution_count": 223,
     "metadata": {},
     "output_type": "execute_result"
    }
   ],
   "source": [
    "logistic_mod = linear_model.LogisticRegression(class_weight = {0:0.45, 1:0.55}) \n",
    "logistic_mod.fit(X_train, y_train)"
   ]
  },
  {
   "cell_type": "code",
   "execution_count": 224,
   "metadata": {},
   "outputs": [
    {
     "name": "stdout",
     "output_type": "stream",
     "text": [
      "[[0.64018842 0.35981158]\n",
      " [0.49259169 0.50740831]\n",
      " [0.5517282  0.4482718 ]\n",
      " [0.72872032 0.27127968]\n",
      " [0.88708993 0.11291007]\n",
      " [0.95715971 0.04284029]\n",
      " [0.90832065 0.09167935]\n",
      " [0.91872804 0.08127196]\n",
      " [0.93276191 0.06723809]\n",
      " [0.75593003 0.24406997]\n",
      " [0.98454247 0.01545753]\n",
      " [0.38558993 0.61441007]\n",
      " [0.72769089 0.27230911]\n",
      " [0.64033764 0.35966236]\n",
      " [0.7972433  0.2027567 ]]\n"
     ]
    }
   ],
   "source": [
    "probabilities = logistic_mod.predict_proba(X_test)\n",
    "print(probabilities[:15,:])"
   ]
  },
  {
   "cell_type": "code",
   "execution_count": 225,
   "metadata": {},
   "outputs": [
    {
     "name": "stdout",
     "output_type": "stream",
     "text": [
      "                 Confusion matrix\n",
      "                 Score positive    Score negative\n",
      "Actual positive      2865               439\n",
      "Actual negative       635               983\n",
      "\n",
      "Accuracy  0.78\n",
      " \n",
      "           Positive      Negative\n",
      "Num case     3304          1618\n",
      "Precision    0.82          0.69\n",
      "Recall       0.87          0.61\n",
      "F1           0.84          0.65\n"
     ]
    },
    {
     "data": {
      "image/png": "[encoded data removed]",
      "text/plain": [
       "<Figure size 432x288 with 1 Axes>"
      ]
     },
     "metadata": {
      "needs_background": "light"
     },
     "output_type": "display_data"
    }
   ],
   "source": [
    "scores = score_model(probabilities, 0.5)\n",
    "print_metrics(y_test, scores)  \n",
    "plot_auc(y_test, probabilities) "
   ]
  },
  {
   "cell_type": "code",
   "execution_count": 226,
   "metadata": {},
   "outputs": [
    {
     "data": {
      "text/plain": [
       "\"def test_threshold(probs, labels, threshold):\\n    scores = score_model(probs, threshold)\\n    print('')\\n    print('For threshold = ' + str(threshold))\\n    print_metrics(labels, scores)\\n\\nthresholds = [0.45, 0.40, 0.35, 0.3, 0.25]\\nfor t in thresholds:\\n    test_threshold(probabilities, y_test, t)\\n\""
      ]
     },
     "execution_count": 226,
     "metadata": {},
     "output_type": "execute_result"
    }
   ],
   "source": [
    "'''def test_threshold(probs, labels, threshold):\n",
    "    scores = score_model(probs, threshold)\n",
    "    print('')\n",
    "    print('For threshold = ' + str(threshold))\n",
    "    print_metrics(labels, scores)\n",
    "\n",
    "thresholds = [0.45, 0.40, 0.35, 0.3, 0.25]\n",
    "for t in thresholds:\n",
    "    test_threshold(probabilities, y_test, t)\n",
    "'''"
   ]
  },
  {
   "cell_type": "code",
   "execution_count": 227,
   "metadata": {},
   "outputs": [],
   "source": [
    "nr.seed(123)\n",
    "inside = ms.KFold(n_splits=10, shuffle = True)\n",
    "nr.seed(321)\n",
    "outside = ms.KFold(n_splits=10, shuffle = True)"
   ]
  },
  {
   "cell_type": "code",
   "execution_count": 228,
   "metadata": {},
   "outputs": [
    {
     "data": {
      "text/plain": [
       "0.1"
      ]
     },
     "execution_count": 228,
     "metadata": {},
     "output_type": "execute_result"
    }
   ],
   "source": [
    "nr.seed(3456)\n",
    "## Define the dictionary for the grid search and the model object to search on\n",
    "param_grid = {\"C\": [0.1, 1, 10, 100, 1000]}\n",
    "## Define the logistic regression model\n",
    "logistic_mod = linear_model.LogisticRegression(class_weight = {0:0.45, 1:0.55}) \n",
    "\n",
    "## Perform the grid search over the parameters\n",
    "clf = ms.GridSearchCV(estimator = logistic_mod, param_grid = param_grid, \n",
    "                      cv = inside, # Use the inside folds\n",
    "                      scoring = 'roc_auc',\n",
    "                      return_train_score = True)\n",
    "\n",
    "## Fit the cross validated grid search over the data \n",
    "clf.fit(Features, Labels)\n",
    "\n",
    "## And print the best parameter value\n",
    "clf.best_estimator_.C"
   ]
  },
  {
   "cell_type": "code",
   "execution_count": 229,
   "metadata": {},
   "outputs": [],
   "source": [
    "#print(clf.cv_results_.keys())"
   ]
  },
  {
   "cell_type": "code",
   "execution_count": 230,
   "metadata": {},
   "outputs": [
    {
     "name": "stdout",
     "output_type": "stream",
     "text": [
      "keys- ['mean_fit_time', 'std_fit_time', 'mean_score_time', 'std_score_time', 'param_C', 'params', 'split0_test_score', 'split1_test_score', 'split2_test_score', 'split3_test_score', 'split4_test_score', 'split5_test_score', 'split6_test_score', 'split7_test_score', 'split8_test_score', 'split9_test_score', 'mean_test_score', 'std_test_score', 'rank_test_score', 'split0_train_score', 'split1_train_score', 'split2_train_score', 'split3_train_score', 'split4_train_score', 'split5_train_score', 'split6_train_score', 'split7_train_score', 'split8_train_score', 'split9_train_score', 'mean_train_score', 'std_train_score']\n",
      "grid-\n",
      " [[0.80514124 0.80513957 0.80513791 0.80513791 0.80513791]\n",
      " [0.81872255 0.81870552 0.8186953  0.8186953  0.8186953 ]\n",
      " [0.80154342 0.80148071 0.80146037 0.80146037 0.80146037]\n",
      " [0.79803966 0.79801609 0.79802451 0.79802451 0.79802451]\n",
      " [0.79152621 0.79152948 0.79152784 0.79152784 0.79152784]\n",
      " [0.83752602 0.83753785 0.83754461 0.83754292 0.83754461]\n",
      " [0.8261802  0.82612692 0.8261086  0.82611193 0.82611193]\n",
      " [0.83194705 0.83193697 0.83192857 0.83193361 0.83193361]\n",
      " [0.80949737 0.80946224 0.80946726 0.80946726 0.80946726]\n",
      " [0.82531568 0.82537535 0.82537867 0.82537867 0.82537867]]\n",
      "means- [0.81454394 0.81453107 0.81452736 0.81452803 0.8145282 ]\n",
      "stds- [0.01478187 0.01479118 0.0147908  0.01479139 0.01479166]\n",
      "Performance metrics by parameter\n",
      "Parameter   Mean performance   STD performance\n",
      "    0.10        0.81454            0.01478\n",
      "    1.00        0.81453            0.01479\n",
      "   10.00        0.81453            0.01479\n",
      "  100.00        0.81453            0.01479\n",
      " 1000.00        0.81453            0.01479\n"
     ]
    },
    {
     "data": {
      "image/png": "[encoded data removed]",
      "text/plain": [
       "<Figure size 432x288 with 1 Axes>"
      ]
     },
     "metadata": {
      "needs_background": "light"
     },
     "output_type": "display_data"
    }
   ],
   "source": [
    "def plot_cv(clf, params_grid, param = 'C'):\n",
    "    params = [x for x in params_grid[param]]\n",
    "  \n",
    "    keys = list(clf.cv_results_.keys())              \n",
    "    print(\"keys-\", keys)\n",
    "    grid = np.array([clf.cv_results_[key] for key in keys[6:16]])\n",
    "    print(\"grid-\\n\", grid)\n",
    "    means = np.mean(grid, axis = 0)\n",
    "    print(\"means-\", means)\n",
    "    stds = np.std(grid, axis = 0)\n",
    "    print(\"stds-\", stds)\n",
    "    print('Performance metrics by parameter')\n",
    "    print('Parameter   Mean performance   STD performance')\n",
    "    for x,y,z in zip(params, means, stds):\n",
    "        print('%8.2f        %6.5f            %6.5f' % (x,y,z))\n",
    "    \n",
    "    params = [math.log10(x) for x in params]\n",
    "    \n",
    "    plt.scatter(params * grid.shape[0], grid.flatten())\n",
    "    p = plt.scatter(params, means, color = 'red', marker = '+', s = 300)\n",
    "    plt.plot(params, np.transpose(grid))\n",
    "    plt.title('Performance metric vs. log parameter value\\n from cross validation')\n",
    "    plt.xlabel('Log hyperparameter value')\n",
    "    plt.ylabel('Performance metric')\n",
    "    \n",
    "plot_cv(clf, param_grid) "
   ]
  },
  {
   "cell_type": "code",
   "execution_count": 231,
   "metadata": {},
   "outputs": [
    {
     "name": "stdout",
     "output_type": "stream",
     "text": [
      "Mean performance metric = 0.812\n",
      "SDT of the metric       = 0.011\n",
      "Outcomes by cv fold\n",
      "Fold  1    0.816\n",
      "Fold  2    0.797\n",
      "Fold  3    0.819\n",
      "Fold  4    0.814\n",
      "Fold  5    0.808\n",
      "Fold  6    0.804\n",
      "Fold  7    0.791\n",
      "Fold  8    0.821\n",
      "Fold  9    0.826\n",
      "Fold 10    0.824\n"
     ]
    }
   ],
   "source": [
    "nr.seed(498)\n",
    "cv_estimate = ms.cross_val_score(clf, Features, Labels, \n",
    "                                 cv = outside) # Use the outside folds\n",
    "print('Mean performance metric = %4.3f' % np.mean(cv_estimate))\n",
    "\n",
    "print('SDT of the metric       = %4.3f' % np.std(cv_estimate))\n",
    "print('Outcomes by cv fold')\n",
    "for i, x in enumerate(cv_estimate):\n",
    "    print('Fold %2d    %4.3f' % (i+1, x))"
   ]
  },
  {
   "cell_type": "code",
   "execution_count": 232,
   "metadata": {},
   "outputs": [
    {
     "data": {
      "text/plain": [
       "LogisticRegression(C=1, class_weight={0: 0.45, 1: 0.55}, dual=False,\n",
       "          fit_intercept=True, intercept_scaling=1, max_iter=100,\n",
       "          multi_class='ovr', n_jobs=1, penalty='l2', random_state=None,\n",
       "          solver='liblinear', tol=0.0001, verbose=0, warm_start=False)"
      ]
     },
     "execution_count": 232,
     "metadata": {},
     "output_type": "execute_result"
    }
   ],
   "source": [
    "## Randomly sample cases to create independent training and test data\n",
    "nr.seed(1115)\n",
    "indx = range(Features.shape[0])\n",
    "indx = ms.train_test_split(indx, test_size = 0.3)\n",
    "X_train = Features[indx[0],:]\n",
    "y_train = np.ravel(Labels[indx[0]])\n",
    "X_test = Features[indx[1],:]\n",
    "y_test = np.ravel(Labels[indx[1]])\n",
    "\n",
    "## Define and fit the logistic regression model\n",
    "logistic_mod = linear_model.LogisticRegression(C = 1, class_weight = {0:0.45, 1:0.55}) \n",
    "logistic_mod.fit(X_train, y_train)"
   ]
  },
  {
   "cell_type": "code",
   "execution_count": 233,
   "metadata": {},
   "outputs": [
    {
     "name": "stdout",
     "output_type": "stream",
     "text": [
      "[[0.53472089 0.46527911]\n",
      " [0.82517202 0.17482798]\n",
      " [0.86760347 0.13239653]\n",
      " [0.92194522 0.07805478]\n",
      " [0.76975582 0.23024418]\n",
      " [0.97226669 0.02773331]\n",
      " [0.12852511 0.87147489]\n",
      " [0.62473573 0.37526427]\n",
      " [0.74414022 0.25585978]\n",
      " [0.5382158  0.4617842 ]\n",
      " [0.94836107 0.05163893]\n",
      " [0.93232071 0.06767929]\n",
      " [0.23505951 0.76494049]\n",
      " [0.4362222  0.5637778 ]\n",
      " [0.61329745 0.38670255]]\n"
     ]
    }
   ],
   "source": [
    "def score_model(probs, threshold):\n",
    "    return np.array([1 if x > threshold else 0 for x in probs[:,1]])\n",
    "\n",
    "probabilities = logistic_mod.predict_proba(X_test)\n",
    "print(probabilities[:15,:])\n",
    "scores = score_model(probabilities, 0.3)"
   ]
  },
  {
   "cell_type": "code",
   "execution_count": 234,
   "metadata": {},
   "outputs": [
    {
     "ename": "SyntaxError",
     "evalue": "EOF while scanning triple-quoted string literal (<ipython-input-234-00caabc9ad7c>, line 1)",
     "output_type": "error",
     "traceback": [
      "\u001b[1;36m  File \u001b[1;32m\"<ipython-input-234-00caabc9ad7c>\"\u001b[1;36m, line \u001b[1;32m1\u001b[0m\n\u001b[1;33m    '''print(X_train[2:,])\u001b[0m\n\u001b[1;37m                          ^\u001b[0m\n\u001b[1;31mSyntaxError\u001b[0m\u001b[1;31m:\u001b[0m EOF while scanning triple-quoted string literal\n"
     ]
    }
   ],
   "source": [
    "'''print(X_train[2:,])"
   ]
  },
  {
   "cell_type": "code",
   "execution_count": 235,
   "metadata": {},
   "outputs": [
    {
     "name": "stdout",
     "output_type": "stream",
     "text": [
      "                 Confusion matrix\n",
      "                 Score positive    Score negative\n",
      "Actual positive      1902              1358\n",
      "Actual negative       279              1383\n",
      "\n",
      "Accuracy        0.67\n",
      "AUC             0.82\n",
      "Macro precision 0.69\n",
      "Macro recall    0.71\n",
      " \n",
      "           Positive      Negative\n",
      "Num case     3260          1662\n",
      "Precision    0.87          0.50\n",
      "Recall       0.58          0.83\n",
      "F1           0.70          0.63\n"
     ]
    },
    {
     "data": {
      "image/png": "[encoded data removed]",
      "text/plain": [
       "<Figure size 432x288 with 1 Axes>"
      ]
     },
     "metadata": {
      "needs_background": "light"
     },
     "output_type": "display_data"
    }
   ],
   "source": [
    "def print_metrics(labels, probs, threshold):\n",
    "    scores = score_model(probs, threshold)\n",
    "    metrics = sklm.precision_recall_fscore_support(labels, scores)\n",
    "    conf = sklm.confusion_matrix(labels, scores)\n",
    "    print('                 Confusion matrix')\n",
    "    print('                 Score positive    Score negative')\n",
    "    print('Actual positive    %6d' % conf[0,0] + '             %5d' % conf[0,1])\n",
    "    print('Actual negative    %6d' % conf[1,0] + '             %5d' % conf[1,1])\n",
    "    print('')\n",
    "    print('Accuracy        %0.2f' % sklm.accuracy_score(labels, scores))\n",
    "    print('AUC             %0.2f' % sklm.roc_auc_score(labels, probs[:,1]))\n",
    "    print('Macro precision %0.2f' % float((float(metrics[0][0]) + float(metrics[0][1]))/2.0))\n",
    "    print('Macro recall    %0.2f' % float((float(metrics[1][0]) + float(metrics[1][1]))/2.0))\n",
    "    print(' ')\n",
    "    print('           Positive      Negative')\n",
    "    print('Num case   %6d' % metrics[3][0] + '        %6d' % metrics[3][1])\n",
    "    print('Precision  %6.2f' % metrics[0][0] + '        %6.2f' % metrics[0][1])\n",
    "    print('Recall     %6.2f' % metrics[1][0] + '        %6.2f' % metrics[1][1])\n",
    "    print('F1         %6.2f' % metrics[2][0] + '        %6.2f' % metrics[2][1])\n",
    "\n",
    "def plot_auc(labels, probs):\n",
    "    ## Compute the false positive rate, true positive rate\n",
    "    ## and threshold along with the AUC\n",
    "    fpr, tpr, threshold = sklm.roc_curve(labels, probs[:,1])\n",
    "    auc = sklm.auc(fpr, tpr)\n",
    "    \n",
    "    ## Plot the result\n",
    "    plt.title('Receiver Operating Characteristic')\n",
    "    plt.plot(fpr, tpr, color = 'orange', label = 'AUC = %0.2f' % auc)\n",
    "    plt.legend(loc = 'lower right')\n",
    "    plt.plot([0, 1], [0, 1],'r--')\n",
    "    plt.xlim([0, 1])\n",
    "    plt.ylim([0, 1])\n",
    "    plt.ylabel('True Positive Rate')\n",
    "    plt.xlabel('False Positive Rate')\n",
    "    plt.show()    \n",
    "        \n",
    "print_metrics(y_test, probabilities, 0.3)    \n",
    "plot_auc(y_test, probabilities)   "
   ]
  },
  {
   "cell_type": "code",
   "execution_count": 244,
   "metadata": {},
   "outputs": [
    {
     "data": {
      "text/html": [
       "<div>\n",
       "<style scoped>\n",
       "    .dataframe tbody tr th:only-of-type {\n",
       "        vertical-align: middle;\n",
       "    }\n",
       "\n",
       "    .dataframe tbody tr th {\n",
       "        vertical-align: top;\n",
       "    }\n",
       "\n",
       "    .dataframe thead th {\n",
       "        text-align: right;\n",
       "    }\n",
       "</style>\n",
       "<table border=\"1\" class=\"dataframe\">\n",
       "  <thead>\n",
       "    <tr style=\"text-align: right;\">\n",
       "      <th></th>\n",
       "      <th>CustomerID</th>\n",
       "      <th>Title</th>\n",
       "      <th>FirstName</th>\n",
       "      <th>MiddleName</th>\n",
       "      <th>LastName</th>\n",
       "      <th>Suffix</th>\n",
       "      <th>AddressLine1</th>\n",
       "      <th>AddressLine2</th>\n",
       "      <th>City</th>\n",
       "      <th>StateProvinceName</th>\n",
       "      <th>...</th>\n",
       "      <th>BirthDate</th>\n",
       "      <th>Education</th>\n",
       "      <th>Occupation</th>\n",
       "      <th>Gender</th>\n",
       "      <th>MaritalStatus</th>\n",
       "      <th>HomeOwnerFlag</th>\n",
       "      <th>NumberCarsOwned</th>\n",
       "      <th>NumberChildrenAtHome</th>\n",
       "      <th>TotalChildren</th>\n",
       "      <th>YearlyIncome</th>\n",
       "    </tr>\n",
       "  </thead>\n",
       "  <tbody>\n",
       "    <tr>\n",
       "      <th>0</th>\n",
       "      <td>18988</td>\n",
       "      <td>NaN</td>\n",
       "      <td>Courtney</td>\n",
       "      <td>A</td>\n",
       "      <td>Baker</td>\n",
       "      <td>NaN</td>\n",
       "      <td>8727 Buena Vista Ave.</td>\n",
       "      <td>NaN</td>\n",
       "      <td>Fremont</td>\n",
       "      <td>California</td>\n",
       "      <td>...</td>\n",
       "      <td>1/5/1945</td>\n",
       "      <td>Bachelors</td>\n",
       "      <td>Management</td>\n",
       "      <td>F</td>\n",
       "      <td>S</td>\n",
       "      <td>0</td>\n",
       "      <td>2</td>\n",
       "      <td>0</td>\n",
       "      <td>5</td>\n",
       "      <td>86931</td>\n",
       "    </tr>\n",
       "    <tr>\n",
       "      <th>1</th>\n",
       "      <td>29135</td>\n",
       "      <td>NaN</td>\n",
       "      <td>Adam</td>\n",
       "      <td>C</td>\n",
       "      <td>Allen</td>\n",
       "      <td>NaN</td>\n",
       "      <td>3491 Cook Street</td>\n",
       "      <td>NaN</td>\n",
       "      <td>Haney</td>\n",
       "      <td>British Columbia</td>\n",
       "      <td>...</td>\n",
       "      <td>10/4/1964</td>\n",
       "      <td>Bachelors</td>\n",
       "      <td>Skilled Manual</td>\n",
       "      <td>M</td>\n",
       "      <td>M</td>\n",
       "      <td>1</td>\n",
       "      <td>2</td>\n",
       "      <td>2</td>\n",
       "      <td>4</td>\n",
       "      <td>100125</td>\n",
       "    </tr>\n",
       "    <tr>\n",
       "      <th>2</th>\n",
       "      <td>12156</td>\n",
       "      <td>NaN</td>\n",
       "      <td>Bonnie</td>\n",
       "      <td>NaN</td>\n",
       "      <td>Raji</td>\n",
       "      <td>NaN</td>\n",
       "      <td>359 Pleasant Hill Rd</td>\n",
       "      <td>NaN</td>\n",
       "      <td>Burbank</td>\n",
       "      <td>California</td>\n",
       "      <td>...</td>\n",
       "      <td>1/12/1934</td>\n",
       "      <td>Graduate Degree</td>\n",
       "      <td>Management</td>\n",
       "      <td>F</td>\n",
       "      <td>M</td>\n",
       "      <td>1</td>\n",
       "      <td>2</td>\n",
       "      <td>0</td>\n",
       "      <td>4</td>\n",
       "      <td>103985</td>\n",
       "    </tr>\n",
       "    <tr>\n",
       "      <th>3</th>\n",
       "      <td>13749</td>\n",
       "      <td>NaN</td>\n",
       "      <td>Julio</td>\n",
       "      <td>C</td>\n",
       "      <td>Alonso</td>\n",
       "      <td>NaN</td>\n",
       "      <td>8945 Euclid Ave.</td>\n",
       "      <td>NaN</td>\n",
       "      <td>Burlingame</td>\n",
       "      <td>California</td>\n",
       "      <td>...</td>\n",
       "      <td>9/22/1958</td>\n",
       "      <td>Graduate Degree</td>\n",
       "      <td>Skilled Manual</td>\n",
       "      <td>M</td>\n",
       "      <td>M</td>\n",
       "      <td>1</td>\n",
       "      <td>0</td>\n",
       "      <td>0</td>\n",
       "      <td>4</td>\n",
       "      <td>127161</td>\n",
       "    </tr>\n",
       "    <tr>\n",
       "      <th>4</th>\n",
       "      <td>27780</td>\n",
       "      <td>NaN</td>\n",
       "      <td>Christy</td>\n",
       "      <td>A</td>\n",
       "      <td>Andersen</td>\n",
       "      <td>NaN</td>\n",
       "      <td>42, boulevard Tremblay</td>\n",
       "      <td>NaN</td>\n",
       "      <td>Dunkerque</td>\n",
       "      <td>Nord</td>\n",
       "      <td>...</td>\n",
       "      <td>3/19/1965</td>\n",
       "      <td>High School</td>\n",
       "      <td>Manual</td>\n",
       "      <td>F</td>\n",
       "      <td>M</td>\n",
       "      <td>1</td>\n",
       "      <td>1</td>\n",
       "      <td>2</td>\n",
       "      <td>2</td>\n",
       "      <td>21876</td>\n",
       "    </tr>\n",
       "  </tbody>\n",
       "</table>\n",
       "<p>5 rows × 23 columns</p>\n",
       "</div>"
      ],
      "text/plain": [
       "   CustomerID Title FirstName MiddleName  LastName Suffix  \\\n",
       "0       18988   NaN  Courtney          A     Baker    NaN   \n",
       "1       29135   NaN      Adam          C     Allen    NaN   \n",
       "2       12156   NaN    Bonnie        NaN      Raji    NaN   \n",
       "3       13749   NaN     Julio          C    Alonso    NaN   \n",
       "4       27780   NaN   Christy          A  Andersen    NaN   \n",
       "\n",
       "             AddressLine1 AddressLine2        City StateProvinceName  \\\n",
       "0   8727 Buena Vista Ave.          NaN     Fremont        California   \n",
       "1        3491 Cook Street          NaN       Haney  British Columbia   \n",
       "2    359 Pleasant Hill Rd          NaN     Burbank        California   \n",
       "3        8945 Euclid Ave.          NaN  Burlingame        California   \n",
       "4  42, boulevard Tremblay          NaN   Dunkerque              Nord   \n",
       "\n",
       "       ...       BirthDate        Education      Occupation Gender  \\\n",
       "0      ...        1/5/1945       Bachelors       Management      F   \n",
       "1      ...       10/4/1964       Bachelors   Skilled Manual      M   \n",
       "2      ...       1/12/1934  Graduate Degree      Management      F   \n",
       "3      ...       9/22/1958  Graduate Degree  Skilled Manual      M   \n",
       "4      ...       3/19/1965      High School          Manual      F   \n",
       "\n",
       "  MaritalStatus HomeOwnerFlag NumberCarsOwned NumberChildrenAtHome  \\\n",
       "0             S             0               2                    0   \n",
       "1             M             1               2                    2   \n",
       "2             M             1               2                    0   \n",
       "3             M             1               0                    0   \n",
       "4             M             1               1                    2   \n",
       "\n",
       "   TotalChildren  YearlyIncome  \n",
       "0              5         86931  \n",
       "1              4        100125  \n",
       "2              4        103985  \n",
       "3              4        127161  \n",
       "4              2         21876  \n",
       "\n",
       "[5 rows x 23 columns]"
      ]
     },
     "execution_count": 244,
     "metadata": {},
     "output_type": "execute_result"
    }
   ],
   "source": [
    "ads_test = pd.read_csv('AW_test.csv')#,index_col='CustomerID')\n",
    "ads_test.head()"
   ]
  },
  {
   "cell_type": "code",
   "execution_count": 245,
   "metadata": {},
   "outputs": [],
   "source": [
    "# Calculate age of customer based on birthdate\n",
    "def calculate_age(end):\n",
    "    r = relativedelta(pd.to_datetime('now'), pd.to_datetime(end)) \n",
    "    return '{}'.format(r.years)\n",
    "\n",
    "\n",
    "ads_test['Age'] = ads_test['BirthDate'].apply(calculate_age)\n",
    "\n",
    "# Convert age to integer\n",
    "ads_test['Age'] = ads_test['Age'].astype('int64')"
   ]
  },
  {
   "cell_type": "code",
   "execution_count": null,
   "metadata": {},
   "outputs": [],
   "source": [
    "#ads_test['Age']"
   ]
  },
  {
   "cell_type": "code",
   "execution_count": 246,
   "metadata": {},
   "outputs": [
    {
     "data": {
      "text/html": [
       "<div>\n",
       "<style scoped>\n",
       "    .dataframe tbody tr th:only-of-type {\n",
       "        vertical-align: middle;\n",
       "    }\n",
       "\n",
       "    .dataframe tbody tr th {\n",
       "        vertical-align: top;\n",
       "    }\n",
       "\n",
       "    .dataframe thead th {\n",
       "        text-align: right;\n",
       "    }\n",
       "</style>\n",
       "<table border=\"1\" class=\"dataframe\">\n",
       "  <thead>\n",
       "    <tr style=\"text-align: right;\">\n",
       "      <th></th>\n",
       "      <th>CountryRegionName</th>\n",
       "      <th>Education</th>\n",
       "      <th>Occupation</th>\n",
       "      <th>Gender</th>\n",
       "      <th>MaritalStatus</th>\n",
       "      <th>HomeOwnerFlag</th>\n",
       "      <th>NumberCarsOwned</th>\n",
       "      <th>NumberChildrenAtHome</th>\n",
       "      <th>TotalChildren</th>\n",
       "      <th>YearlyIncome</th>\n",
       "      <th>Age</th>\n",
       "    </tr>\n",
       "  </thead>\n",
       "  <tbody>\n",
       "    <tr>\n",
       "      <th>0</th>\n",
       "      <td>United States</td>\n",
       "      <td>Bachelors</td>\n",
       "      <td>Management</td>\n",
       "      <td>F</td>\n",
       "      <td>S</td>\n",
       "      <td>0</td>\n",
       "      <td>2</td>\n",
       "      <td>0</td>\n",
       "      <td>5</td>\n",
       "      <td>86931</td>\n",
       "      <td>74</td>\n",
       "    </tr>\n",
       "    <tr>\n",
       "      <th>1</th>\n",
       "      <td>Canada</td>\n",
       "      <td>Bachelors</td>\n",
       "      <td>Skilled Manual</td>\n",
       "      <td>M</td>\n",
       "      <td>M</td>\n",
       "      <td>1</td>\n",
       "      <td>2</td>\n",
       "      <td>2</td>\n",
       "      <td>4</td>\n",
       "      <td>100125</td>\n",
       "      <td>54</td>\n",
       "    </tr>\n",
       "    <tr>\n",
       "      <th>2</th>\n",
       "      <td>United States</td>\n",
       "      <td>Graduate Degree</td>\n",
       "      <td>Management</td>\n",
       "      <td>F</td>\n",
       "      <td>M</td>\n",
       "      <td>1</td>\n",
       "      <td>2</td>\n",
       "      <td>0</td>\n",
       "      <td>4</td>\n",
       "      <td>103985</td>\n",
       "      <td>85</td>\n",
       "    </tr>\n",
       "    <tr>\n",
       "      <th>3</th>\n",
       "      <td>United States</td>\n",
       "      <td>Graduate Degree</td>\n",
       "      <td>Skilled Manual</td>\n",
       "      <td>M</td>\n",
       "      <td>M</td>\n",
       "      <td>1</td>\n",
       "      <td>0</td>\n",
       "      <td>0</td>\n",
       "      <td>4</td>\n",
       "      <td>127161</td>\n",
       "      <td>60</td>\n",
       "    </tr>\n",
       "    <tr>\n",
       "      <th>4</th>\n",
       "      <td>France</td>\n",
       "      <td>High School</td>\n",
       "      <td>Manual</td>\n",
       "      <td>F</td>\n",
       "      <td>M</td>\n",
       "      <td>1</td>\n",
       "      <td>1</td>\n",
       "      <td>2</td>\n",
       "      <td>2</td>\n",
       "      <td>21876</td>\n",
       "      <td>53</td>\n",
       "    </tr>\n",
       "  </tbody>\n",
       "</table>\n",
       "</div>"
      ],
      "text/plain": [
       "  CountryRegionName        Education      Occupation Gender MaritalStatus  \\\n",
       "0     United States       Bachelors       Management      F             S   \n",
       "1            Canada       Bachelors   Skilled Manual      M             M   \n",
       "2     United States  Graduate Degree      Management      F             M   \n",
       "3     United States  Graduate Degree  Skilled Manual      M             M   \n",
       "4            France      High School          Manual      F             M   \n",
       "\n",
       "   HomeOwnerFlag  NumberCarsOwned  NumberChildrenAtHome  TotalChildren  \\\n",
       "0              0                2                     0              5   \n",
       "1              1                2                     2              4   \n",
       "2              1                2                     0              4   \n",
       "3              1                0                     0              4   \n",
       "4              1                1                     2              2   \n",
       "\n",
       "   YearlyIncome  Age  \n",
       "0         86931   74  \n",
       "1        100125   54  \n",
       "2        103985   85  \n",
       "3        127161   60  \n",
       "4         21876   53  "
      ]
     },
     "execution_count": 246,
     "metadata": {},
     "output_type": "execute_result"
    }
   ],
   "source": [
    "ads_totest = ads_test[['CountryRegionName','Education','Occupation','Gender',\n",
    "                      'MaritalStatus','HomeOwnerFlag','NumberCarsOwned',\n",
    "                      'NumberChildrenAtHome','TotalChildren','YearlyIncome',\n",
    "                      'Age']]\n",
    "\n",
    "ads_totest.head()"
   ]
  },
  {
   "cell_type": "code",
   "execution_count": 247,
   "metadata": {},
   "outputs": [
    {
     "name": "stdout",
     "output_type": "stream",
     "text": [
      "(500, 22)\n"
     ]
    }
   ],
   "source": [
    "# Encode categorical data\n",
    "def encode_string(cat_features):\n",
    "    \n",
    "    ## First encode the strings to numeric categories\n",
    "    enc = preprocessing.LabelEncoder()\n",
    "    enc.fit(cat_features)\n",
    "    enc_cat_features = enc.transform(cat_features)\n",
    "    \n",
    "    ## Now, apply one hot encoding\n",
    "    ohe = preprocessing.OneHotEncoder()\n",
    "    encoded = ohe.fit(enc_cat_features.reshape(-1,1))\n",
    "    return encoded.transform(enc_cat_features.reshape(-1,1)).toarray()\n",
    "\n",
    "categorical_columns = ['Education','Occupation',\n",
    "                       'Gender','MaritalStatus','HomeOwnerFlag']\n",
    "\n",
    "Features = encode_string(ads_totest['CountryRegionName'])\n",
    "\n",
    "for col in categorical_columns:\n",
    "    temp = encode_string(ads_totest[col])\n",
    "    Features = np.concatenate([Features, temp], axis = 1)\n",
    "    \n",
    "print(Features.shape)"
   ]
  },
  {
   "cell_type": "code",
   "execution_count": 248,
   "metadata": {},
   "outputs": [
    {
     "name": "stdout",
     "output_type": "stream",
     "text": [
      "(500, 27)\n"
     ]
    }
   ],
   "source": [
    "# Add numerical feature\n",
    "Features = np.concatenate([Features, np.array(ads_totest[['NumberCarsOwned',\n",
    "                                                        'NumberChildrenAtHome',\n",
    "                                                        'TotalChildren',\n",
    "                                                        'YearlyIncome','Age']])], axis = 1)\n",
    "\n",
    "print(Features.shape)"
   ]
  },
  {
   "cell_type": "code",
   "execution_count": 249,
   "metadata": {},
   "outputs": [],
   "source": [
    "X_test = Features\n",
    "X_test[:,23:] = scaler.transform(X_test[:,23:])"
   ]
  },
  {
   "cell_type": "markdown",
   "metadata": {},
   "source": [
    "**Check logistic model**"
   ]
  },
  {
   "cell_type": "code",
   "execution_count": 250,
   "metadata": {
    "scrolled": true
   },
   "outputs": [
    {
     "name": "stdout",
     "output_type": "stream",
     "text": [
      "[0 0 0 0 0 0 1 1 1 0 0 0 0 0 0 0 0 0 1 1 0 0 1 0 0 0 0 1 0 0 1 0 0 0 1 1 1\n",
      " 0 0 0 0 1 0 0 0 0 0 1 0 0 0 1 0 0 0 0 0 0 0 1 0 0 0 1 1 1 0 1 0 1 1 0 0 0\n",
      " 0 1 1 1 0 0 0 0 0 0 0 0 0 1 1 0 0 1 0 0 0 1 0 0 0 0 1 0 0 1 0 0 0 0 0 0 1\n",
      " 0 0 0 0 1 0 0 0 1 1 0 1 0 0 0 0 0 1 0 0 0 1 0 0 1 1 0 1 0 0 0 0 0 1 0 0 0\n",
      " 0 0 1 0 0 0 0 0 1 0 0 0 0 0 1 0 1 0 0 1 0 0 0 1 0 0 0 0 1 0 0 1 0 0 1 0 0\n",
      " 0 1 0 0 1 0 0 0 0 0 0 0 0 0 1 0 0 0 0 1 0 1 1 0 1 0 1 1 0 0 0 0 0 0 1 0 0\n",
      " 1 1 1 0 0 1 1 0 1 0 0 0 0 0 1 0 0 0 1 0 0 1 1 0 0 0 1 1 1 0 1 0 1 0 0 0 1\n",
      " 0 0 0 0 0 1 1 0 0 1 0 1 0 0 0 0 0 1 0 1 0 0 0 0 0 1 0 0 0 0 1 0 0 0 1 0 1\n",
      " 1 0 1 0 0 0 1 0 0 0 1 1 1 1 0 1 1 0 0 0 0 0 1 0 0 0 0 0 1 1 0 0 0 0 0 0 1\n",
      " 0 1 1 0 0 1 0 0 0 0 0 0 0 0 0 1 0 0 1 0 1 0 0 1 0 0 0 1 0 0 0 0 0 0 0 0 0\n",
      " 1 0 0 1 0 0 0 0 0 1 1 1 0 0 0 1 0 1 0 0 0 0 1 0 0 0 0 0 0 0 0 1 0 1 1 0 1\n",
      " 0 0 0 0 0 0 0 1 0 1 1 0 0 0 0 0 0 0 0 0 0 1 1 0 0 0 1 1 0 1 1 0 0 0 1 0 0\n",
      " 0 0 0 1 1 0 0 1 0 0 0 0 0 0 0 0 0 0 1 0 1 1 0 1 0 0 0 0 1 0 1 0 1 1 1 1 1\n",
      " 0 1 0 0 0 1 0 0 0 1 1 1 0 0 0 1 1 0 0]\n"
     ]
    }
   ],
   "source": [
    "scores = logistic_mod.predict(X_test)\n",
    "print(scores)"
   ]
  },
  {
   "cell_type": "code",
   "execution_count": 251,
   "metadata": {},
   "outputs": [],
   "source": [
    "result = pd.DataFrame(scores, index = ads_test['CustomerID'],columns=['BikeBuyer'])\n",
    "\n",
    "result\n",
    "result.to_csv('result_log_mod.csv')"
   ]
  },
  {
   "cell_type": "code",
   "execution_count": 260,
   "metadata": {
    "scrolled": true
   },
   "outputs": [
    {
     "data": {
      "text/plain": [
       "'#NB_mod = GaussianNB()\\nnr.seed(1115)\\nnn_mod = MLPClassifier(hidden_layer_sizes = (50,))\\n#logistic_mod = linear_model.LogisticRegression()\\nsvm_mod = svm.LinearSVC()\\n\\nnn_mod.fit(X_train, y_train)\\n\\n\\n#nn_mod = MLPClassifier(hidden_layer_sizes = (50,))\\n#nn_mod.fit(X_train, y_train)\\n'"
      ]
     },
     "execution_count": 260,
     "metadata": {},
     "output_type": "execute_result"
    }
   ],
   "source": [
    "'''#NB_mod = GaussianNB()\n",
    "nr.seed(1115)\n",
    "nn_mod = MLPClassifier(hidden_layer_sizes = (50,))\n",
    "#logistic_mod = linear_model.LogisticRegression()\n",
    "svm_mod = svm.LinearSVC()\n",
    "\n",
    "nn_mod.fit(X_train, y_train)\n",
    "\n",
    "\n",
    "#nn_mod = MLPClassifier(hidden_layer_sizes = (50,))\n",
    "#nn_mod.fit(X_train, y_train)\n",
    "'''"
   ]
  },
  {
   "cell_type": "code",
   "execution_count": 261,
   "metadata": {},
   "outputs": [],
   "source": [
    "#X_test[:,23:] = scaler.transform(X_test[:,23:])\n",
    "#scores = nn_mod.predict(X_test)"
   ]
  },
  {
   "cell_type": "code",
   "execution_count": 262,
   "metadata": {},
   "outputs": [
    {
     "data": {
      "text/plain": [
       "\"def print_metrics(labels, scores):\\n    metrics = sklm.precision_recall_fscore_support(labels, scores)\\n    conf = sklm.confusion_matrix(labels, scores)\\n    print('                 Confusion matrix')\\n    print('                 Score positive    Score negative')\\n    print('Actual positive    %6d' % conf[0,0] + '             %5d' % conf[0,1])\\n    print('Actual negative    %6d' % conf[1,0] + '             %5d' % conf[1,1])\\n    print('')\\n    print('Accuracy  %0.2f' % sklm.accuracy_score(labels, scores))\\n    print(' ')\\n    print('           Positive      Negative')\\n    print('Num case   %6d' % metrics[3][0] + '        %6d' % metrics[3][1])\\n    print('Precision  %6.2f' % metrics[0][0] + '        %6.2f' % metrics[0][1])\\n    print('Recall     %6.2f' % metrics[1][0] + '        %6.2f' % metrics[1][1])\\n    print('F1         %6.2f' % metrics[2][0] + '        %6.2f' % metrics[2][1])\\n\\n\\n    \\nprint_metrics(y_test, scores)  \\n\""
      ]
     },
     "execution_count": 262,
     "metadata": {},
     "output_type": "execute_result"
    }
   ],
   "source": [
    "'''def print_metrics(labels, scores):\n",
    "    metrics = sklm.precision_recall_fscore_support(labels, scores)\n",
    "    conf = sklm.confusion_matrix(labels, scores)\n",
    "    print('                 Confusion matrix')\n",
    "    print('                 Score positive    Score negative')\n",
    "    print('Actual positive    %6d' % conf[0,0] + '             %5d' % conf[0,1])\n",
    "    print('Actual negative    %6d' % conf[1,0] + '             %5d' % conf[1,1])\n",
    "    print('')\n",
    "    print('Accuracy  %0.2f' % sklm.accuracy_score(labels, scores))\n",
    "    print(' ')\n",
    "    print('           Positive      Negative')\n",
    "    print('Num case   %6d' % metrics[3][0] + '        %6d' % metrics[3][1])\n",
    "    print('Precision  %6.2f' % metrics[0][0] + '        %6.2f' % metrics[0][1])\n",
    "    print('Recall     %6.2f' % metrics[1][0] + '        %6.2f' % metrics[1][1])\n",
    "    print('F1         %6.2f' % metrics[2][0] + '        %6.2f' % metrics[2][1])\n",
    "\n",
    "\n",
    "    \n",
    "print_metrics(y_test, scores)  \n",
    "'''"
   ]
  },
  {
   "cell_type": "code",
   "execution_count": 263,
   "metadata": {},
   "outputs": [
    {
     "data": {
      "text/plain": [
       "'scores = nn_mod.predict(X_test)\\nprint(scores)\\n'"
      ]
     },
     "execution_count": 263,
     "metadata": {},
     "output_type": "execute_result"
    }
   ],
   "source": [
    "'''scores = nn_mod.predict(X_test)\n",
    "print(scores)\n",
    "'''"
   ]
  },
  {
   "cell_type": "code",
   "execution_count": 264,
   "metadata": {},
   "outputs": [
    {
     "data": {
      "text/plain": [
       "\"result = pd.DataFrame(scores, index = ads_test['CustomerID'],columns=['BikeBuyer'])\\n\\nresult\\nresult.to_csv('result_nn_mod.csv')\\n\""
      ]
     },
     "execution_count": 264,
     "metadata": {},
     "output_type": "execute_result"
    }
   ],
   "source": [
    "'''result = pd.DataFrame(scores, index = ads_test['CustomerID'],columns=['BikeBuyer'])\n",
    "\n",
    "result\n",
    "result.to_csv('result_nn_mod.csv')\n",
    "'''"
   ]
  },
  {
   "cell_type": "code",
   "execution_count": null,
   "metadata": {},
   "outputs": [],
   "source": []
  }
 ],
 "metadata": {
  "kernelspec": {
   "display_name": "Python 3",
   "language": "python",
   "name": "python3"
  },
  "language_info": {
   "codemirror_mode": {
    "name": "ipython",
    "version": 3
   },
   "file_extension": ".py",
   "mimetype": "text/x-python",
   "name": "python",
   "nbconvert_exporter": "python",
   "pygments_lexer": "ipython3",
   "version": "3.7.0"
  }
 },
 "nbformat": 4,
 "nbformat_minor": 2
}
