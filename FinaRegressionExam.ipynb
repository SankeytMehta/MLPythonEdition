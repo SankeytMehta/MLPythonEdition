{
 "cells": [
  {
   "cell_type": "code",
   "execution_count": 54,
   "metadata": {},
   "outputs": [],
   "source": [
    "from sklearn.neural_network import MLPClassifier\n",
    "from sklearn import svm, preprocessing\n",
    "from sklearn.naive_bayes import GaussianNB, BernoulliNB\n",
    "\n",
    "import sklearn.metrics as sklm\n",
    "\n",
    "from sklearn import linear_model\n",
    "#from statsmodels.api import datasets\n",
    "from sklearn import datasets ## Get dataset from sklearn\n",
    "import sklearn.model_selection as ms\n",
    "import sklearn.metrics as sklm\n",
    "import matplotlib.pyplot as plt\n",
    "import pandas as pd\n",
    "import numpy as np\n",
    "import numpy.random as nr\n",
    "from dateutil.relativedelta import relativedelta\n",
    "\n",
    "import math\n",
    "\n",
    "%matplotlib inline"
   ]
  },
  {
   "cell_type": "code",
   "execution_count": 55,
   "metadata": {},
   "outputs": [],
   "source": [
    "AdvWorksCustsFinal = pd.read_csv('AWCustFinal.csv',index_col='CustomerID')"
   ]
  },
  {
   "cell_type": "code",
   "execution_count": 56,
   "metadata": {
    "scrolled": true
   },
   "outputs": [
    {
     "name": "stdout",
     "output_type": "stream",
     "text": [
      "<class 'pandas.core.frame.DataFrame'>\n",
      "Int64Index: 16404 entries, 11000 to 18982\n",
      "Data columns (total 14 columns):\n",
      "Unnamed: 0              16404 non-null int64\n",
      "CountryRegionName       16404 non-null object\n",
      "Education               16404 non-null object\n",
      "Occupation              16404 non-null object\n",
      "Gender                  16404 non-null object\n",
      "MaritalStatus           16404 non-null object\n",
      "HomeOwnerFlag           16404 non-null int64\n",
      "NumberCarsOwned         16404 non-null int64\n",
      "NumberChildrenAtHome    16404 non-null int64\n",
      "TotalChildren           16404 non-null int64\n",
      "YearlyIncome            16404 non-null int64\n",
      "BikeBuyer               16404 non-null int64\n",
      "ageat1998               16404 non-null int64\n",
      "AveMonthSpendLog        16404 non-null float64\n",
      "dtypes: float64(1), int64(8), object(5)\n",
      "memory usage: 1.9+ MB\n"
     ]
    }
   ],
   "source": [
    "AdvWorksCustsFinal.info()"
   ]
  },
  {
   "cell_type": "code",
   "execution_count": 57,
   "metadata": {},
   "outputs": [],
   "source": [
    "advWorksCusts = pd.read_csv('AdvWorksCusts.csv')\n",
    "#print(advWorksCusts.CustomerID.unique().shape)\n",
    "advWorksCusts.drop_duplicates(subset = 'CustomerID', keep = 'last', inplace = True)"
   ]
  },
  {
   "cell_type": "code",
   "execution_count": 58,
   "metadata": {
    "scrolled": true
   },
   "outputs": [
    {
     "name": "stdout",
     "output_type": "stream",
     "text": [
      "(16404, 23)\n",
      "(16404, 23)\n"
     ]
    }
   ],
   "source": [
    "aw_AveMonthSpend = pd.read_csv('AW_AveMonthSpend.csv')\n",
    "#print(aw_AveMonthSpend.CustomerID.unique().shape)\n",
    "aw_AveMonthSpend.drop_duplicates(subset = 'CustomerID', keep = 'last', inplace = True)\n",
    "print(advWorksCusts.shape)\n",
    "aw_BikeBuyer = pd.read_csv('AW_BikeBuyer.csv')\n",
    "#print(aw_BikeBuyer.CustomerID.unique().shape)\n",
    "aw_BikeBuyer.drop_duplicates(subset = 'CustomerID', keep = 'last', inplace = True)\n",
    "print(advWorksCusts.shape)"
   ]
  },
  {
   "cell_type": "code",
   "execution_count": 59,
   "metadata": {},
   "outputs": [
    {
     "name": "stdout",
     "output_type": "stream",
     "text": [
      "(16404, 25)\n",
      "(16404,)\n"
     ]
    }
   ],
   "source": [
    "WorksCustsFinal = pd.merge(advWorksCusts, aw_AveMonthSpend, on='CustomerID')\n",
    "WorksCustsFinal = pd.merge(WorksCustsFinal, aw_BikeBuyer,on='CustomerID')\n",
    "print(WorksCustsFinal.shape)\n",
    "print(WorksCustsFinal.CustomerID.unique().shape)"
   ]
  },
  {
   "cell_type": "code",
   "execution_count": 60,
   "metadata": {},
   "outputs": [
    {
     "name": "stdout",
     "output_type": "stream",
     "text": [
      "<class 'pandas.core.frame.DataFrame'>\n",
      "Int64Index: 16404 entries, 0 to 16403\n",
      "Data columns (total 25 columns):\n",
      "CustomerID              16404 non-null int64\n",
      "Title                   88 non-null object\n",
      "FirstName               16404 non-null object\n",
      "MiddleName              9453 non-null object\n",
      "LastName                16404 non-null object\n",
      "Suffix                  2 non-null object\n",
      "AddressLine1            16404 non-null object\n",
      "AddressLine2            273 non-null object\n",
      "City                    16404 non-null object\n",
      "StateProvinceName       16404 non-null object\n",
      "CountryRegionName       16404 non-null object\n",
      "PostalCode              16404 non-null object\n",
      "PhoneNumber             16404 non-null object\n",
      "BirthDate               16404 non-null object\n",
      "Education               16404 non-null object\n",
      "Occupation              16404 non-null object\n",
      "Gender                  16404 non-null object\n",
      "MaritalStatus           16404 non-null object\n",
      "HomeOwnerFlag           16404 non-null int64\n",
      "NumberCarsOwned         16404 non-null int64\n",
      "NumberChildrenAtHome    16404 non-null int64\n",
      "TotalChildren           16404 non-null int64\n",
      "YearlyIncome            16404 non-null int64\n",
      "AveMonthSpend           16404 non-null int64\n",
      "BikeBuyer               16404 non-null int64\n",
      "dtypes: int64(8), object(17)\n",
      "memory usage: 3.3+ MB\n"
     ]
    }
   ],
   "source": [
    "WorksCustsFinal.info()"
   ]
  },
  {
   "cell_type": "code",
   "execution_count": 61,
   "metadata": {},
   "outputs": [],
   "source": [
    "WorksCustsFinal.columns\n",
    "WorksCustsFinal.drop(columns=['Title', 'MiddleName', 'Suffix', 'AddressLine2'],axis=1,inplace=True)"
   ]
  },
  {
   "cell_type": "code",
   "execution_count": 62,
   "metadata": {},
   "outputs": [
    {
     "name": "stdout",
     "output_type": "stream",
     "text": [
      "<class 'pandas.core.frame.DataFrame'>\n",
      "Int64Index: 16404 entries, 0 to 16403\n",
      "Data columns (total 21 columns):\n",
      "CustomerID              16404 non-null int64\n",
      "FirstName               16404 non-null object\n",
      "LastName                16404 non-null object\n",
      "AddressLine1            16404 non-null object\n",
      "City                    16404 non-null object\n",
      "StateProvinceName       16404 non-null object\n",
      "CountryRegionName       16404 non-null object\n",
      "PostalCode              16404 non-null object\n",
      "PhoneNumber             16404 non-null object\n",
      "BirthDate               16404 non-null object\n",
      "Education               16404 non-null object\n",
      "Occupation              16404 non-null object\n",
      "Gender                  16404 non-null object\n",
      "MaritalStatus           16404 non-null object\n",
      "HomeOwnerFlag           16404 non-null int64\n",
      "NumberCarsOwned         16404 non-null int64\n",
      "NumberChildrenAtHome    16404 non-null int64\n",
      "TotalChildren           16404 non-null int64\n",
      "YearlyIncome            16404 non-null int64\n",
      "AveMonthSpend           16404 non-null int64\n",
      "BikeBuyer               16404 non-null int64\n",
      "dtypes: int64(8), object(13)\n",
      "memory usage: 2.8+ MB\n"
     ]
    }
   ],
   "source": [
    "WorksCustsFinal.info()"
   ]
  },
  {
   "cell_type": "code",
   "execution_count": 63,
   "metadata": {},
   "outputs": [],
   "source": [
    "WorksCustsFinal['ageat1998'] = [1998 - int(str(dt).split('-')[0]) for dt in WorksCustsFinal['BirthDate'] ]"
   ]
  },
  {
   "cell_type": "code",
   "execution_count": 64,
   "metadata": {},
   "outputs": [
    {
     "name": "stdout",
     "output_type": "stream",
     "text": [
      "<class 'pandas.core.frame.DataFrame'>\n",
      "Int64Index: 16404 entries, 0 to 16403\n",
      "Data columns (total 22 columns):\n",
      "CustomerID              16404 non-null int64\n",
      "FirstName               16404 non-null object\n",
      "LastName                16404 non-null object\n",
      "AddressLine1            16404 non-null object\n",
      "City                    16404 non-null object\n",
      "StateProvinceName       16404 non-null object\n",
      "CountryRegionName       16404 non-null object\n",
      "PostalCode              16404 non-null object\n",
      "PhoneNumber             16404 non-null object\n",
      "BirthDate               16404 non-null object\n",
      "Education               16404 non-null object\n",
      "Occupation              16404 non-null object\n",
      "Gender                  16404 non-null object\n",
      "MaritalStatus           16404 non-null object\n",
      "HomeOwnerFlag           16404 non-null int64\n",
      "NumberCarsOwned         16404 non-null int64\n",
      "NumberChildrenAtHome    16404 non-null int64\n",
      "TotalChildren           16404 non-null int64\n",
      "YearlyIncome            16404 non-null int64\n",
      "AveMonthSpend           16404 non-null int64\n",
      "BikeBuyer               16404 non-null int64\n",
      "ageat1998               16404 non-null int64\n",
      "dtypes: int64(9), object(13)\n",
      "memory usage: 2.9+ MB\n"
     ]
    }
   ],
   "source": [
    "WorksCustsFinal.info()"
   ]
  },
  {
   "cell_type": "code",
   "execution_count": 65,
   "metadata": {},
   "outputs": [],
   "source": [
    "WorksCustsFinal.drop(WorksCustsFinal[['FirstName','LastName','AddressLine1','City','StateProvinceName','PostalCode','PhoneNumber','BirthDate']],axis=1,inplace=True)"
   ]
  },
  {
   "cell_type": "code",
   "execution_count": 66,
   "metadata": {},
   "outputs": [],
   "source": [
    "#AdvWorksCustsFinal.drop(['Unnamed: 0'],axis = 1,inplace=True,)"
   ]
  },
  {
   "cell_type": "code",
   "execution_count": 75,
   "metadata": {},
   "outputs": [
    {
     "data": {
      "text/plain": [
       "(16404,)"
      ]
     },
     "execution_count": 75,
     "metadata": {},
     "output_type": "execute_result"
    }
   ],
   "source": [
    "# Labels\n",
    "Labels = np.array(WorksCustsFinal['AveMonthSpend'])\n",
    "Labels.shape"
   ]
  },
  {
   "cell_type": "code",
   "execution_count": 68,
   "metadata": {
    "scrolled": true
   },
   "outputs": [
    {
     "name": "stdout",
     "output_type": "stream",
     "text": [
      "(16404, 22)\n",
      "[[1. 0. 0. 0. 0. 0. 1. 0. 0. 0. 0. 0. 0. 0. 1. 0. 0. 1. 1. 0. 0. 1.]\n",
      " [1. 0. 0. 0. 0. 0. 1. 0. 0. 0. 0. 0. 0. 0. 1. 0. 0. 1. 0. 1. 1. 0.]]\n"
     ]
    }
   ],
   "source": [
    "# Encode categorical data\n",
    "def encode_string(cat_features):\n",
    "    \n",
    "    ## First encode the strings to numeric categories\n",
    "    enc = preprocessing.LabelEncoder()\n",
    "    enc.fit(cat_features)\n",
    "    enc_cat_features = enc.transform(cat_features)\n",
    "    \n",
    "    ## Now, apply one hot encoding\n",
    "    ohe = preprocessing.OneHotEncoder()\n",
    "    encoded = ohe.fit(enc_cat_features.reshape(-1,1))\n",
    "    return encoded.transform(enc_cat_features.reshape(-1,1)).toarray()\n",
    "\n",
    "categorical_columns = ['Education','Occupation',\n",
    "                       'Gender','MaritalStatus','HomeOwnerFlag']\n",
    "\n",
    "Features = encode_string(WorksCustsFinal['CountryRegionName'])\n",
    "\n",
    "for col in categorical_columns:\n",
    "    temp = encode_string(WorksCustsFinal[col])\n",
    "    Features = np.concatenate([Features, temp], axis = 1)\n",
    "    \n",
    "print(Features.shape)\n",
    "print(Features[:2, :])"
   ]
  },
  {
   "cell_type": "code",
   "execution_count": 69,
   "metadata": {},
   "outputs": [],
   "source": [
    "numerical_columns = numerical_columns = ['NumberCarsOwned', 'NumberChildrenAtHome', 'TotalChildren', 'YearlyIncome', 'ageat1998']"
   ]
  },
  {
   "cell_type": "code",
   "execution_count": 70,
   "metadata": {},
   "outputs": [
    {
     "name": "stdout",
     "output_type": "stream",
     "text": [
      "(16404, 27)\n"
     ]
    }
   ],
   "source": [
    "# Add numerical feature\n",
    "Features = np.concatenate([Features, np.array(WorksCustsFinal[numerical_columns])], axis = 1)\n",
    "Features[:2,:]\n",
    "print(Features.shape)"
   ]
  },
  {
   "cell_type": "code",
   "execution_count": 76,
   "metadata": {},
   "outputs": [],
   "source": [
    "## Randomly sample cases to create independent training and test data\n",
    "nr.seed(9988)\n",
    "indx = range(Features.shape[0])\n",
    "indx = ms.train_test_split(indx, test_size = 0.3)\n",
    "X_train = Features[indx[0],:]\n",
    "y_train = np.ravel(Labels[indx[0]])\n",
    "X_test = Features[indx[1],:]\n",
    "y_test = np.ravel(Labels[indx[1]])"
   ]
  },
  {
   "cell_type": "code",
   "execution_count": 77,
   "metadata": {},
   "outputs": [],
   "source": [
    "scaler = preprocessing.StandardScaler().fit(X_train[:,23:])\n",
    "X_train[:,23:] = scaler.transform(X_train[:,23:])\n",
    "X_test[:,23:] = scaler.transform(X_test[:,23:])"
   ]
  },
  {
   "cell_type": "code",
   "execution_count": 78,
   "metadata": {},
   "outputs": [
    {
     "data": {
      "text/plain": [
       "LinearRegression(copy_X=True, fit_intercept=False, n_jobs=1, normalize=False)"
      ]
     },
     "execution_count": 78,
     "metadata": {},
     "output_type": "execute_result"
    }
   ],
   "source": [
    "#Construct Linear regression model\n",
    "\n",
    "lin_mod = linear_model.LinearRegression(fit_intercept = False)\n",
    "lin_mod.fit(X_train, y_train)"
   ]
  },
  {
   "cell_type": "code",
   "execution_count": 79,
   "metadata": {},
   "outputs": [
    {
     "data": {
      "text/html": [
       "<div>\n",
       "<style scoped>\n",
       "    .dataframe tbody tr th:only-of-type {\n",
       "        vertical-align: middle;\n",
       "    }\n",
       "\n",
       "    .dataframe tbody tr th {\n",
       "        vertical-align: top;\n",
       "    }\n",
       "\n",
       "    .dataframe thead th {\n",
       "        text-align: right;\n",
       "    }\n",
       "</style>\n",
       "<table border=\"1\" class=\"dataframe\">\n",
       "  <thead>\n",
       "    <tr style=\"text-align: right;\">\n",
       "      <th></th>\n",
       "      <th>CustomerID</th>\n",
       "      <th>Title</th>\n",
       "      <th>FirstName</th>\n",
       "      <th>MiddleName</th>\n",
       "      <th>LastName</th>\n",
       "      <th>Suffix</th>\n",
       "      <th>AddressLine1</th>\n",
       "      <th>AddressLine2</th>\n",
       "      <th>City</th>\n",
       "      <th>StateProvinceName</th>\n",
       "      <th>...</th>\n",
       "      <th>BirthDate</th>\n",
       "      <th>Education</th>\n",
       "      <th>Occupation</th>\n",
       "      <th>Gender</th>\n",
       "      <th>MaritalStatus</th>\n",
       "      <th>HomeOwnerFlag</th>\n",
       "      <th>NumberCarsOwned</th>\n",
       "      <th>NumberChildrenAtHome</th>\n",
       "      <th>TotalChildren</th>\n",
       "      <th>YearlyIncome</th>\n",
       "    </tr>\n",
       "  </thead>\n",
       "  <tbody>\n",
       "    <tr>\n",
       "      <th>0</th>\n",
       "      <td>18988</td>\n",
       "      <td>NaN</td>\n",
       "      <td>Courtney</td>\n",
       "      <td>A</td>\n",
       "      <td>Baker</td>\n",
       "      <td>NaN</td>\n",
       "      <td>8727 Buena Vista Ave.</td>\n",
       "      <td>NaN</td>\n",
       "      <td>Fremont</td>\n",
       "      <td>California</td>\n",
       "      <td>...</td>\n",
       "      <td>1/5/1945</td>\n",
       "      <td>Bachelors</td>\n",
       "      <td>Management</td>\n",
       "      <td>F</td>\n",
       "      <td>S</td>\n",
       "      <td>0</td>\n",
       "      <td>2</td>\n",
       "      <td>0</td>\n",
       "      <td>5</td>\n",
       "      <td>86931</td>\n",
       "    </tr>\n",
       "    <tr>\n",
       "      <th>1</th>\n",
       "      <td>29135</td>\n",
       "      <td>NaN</td>\n",
       "      <td>Adam</td>\n",
       "      <td>C</td>\n",
       "      <td>Allen</td>\n",
       "      <td>NaN</td>\n",
       "      <td>3491 Cook Street</td>\n",
       "      <td>NaN</td>\n",
       "      <td>Haney</td>\n",
       "      <td>British Columbia</td>\n",
       "      <td>...</td>\n",
       "      <td>10/4/1964</td>\n",
       "      <td>Bachelors</td>\n",
       "      <td>Skilled Manual</td>\n",
       "      <td>M</td>\n",
       "      <td>M</td>\n",
       "      <td>1</td>\n",
       "      <td>2</td>\n",
       "      <td>2</td>\n",
       "      <td>4</td>\n",
       "      <td>100125</td>\n",
       "    </tr>\n",
       "    <tr>\n",
       "      <th>2</th>\n",
       "      <td>12156</td>\n",
       "      <td>NaN</td>\n",
       "      <td>Bonnie</td>\n",
       "      <td>NaN</td>\n",
       "      <td>Raji</td>\n",
       "      <td>NaN</td>\n",
       "      <td>359 Pleasant Hill Rd</td>\n",
       "      <td>NaN</td>\n",
       "      <td>Burbank</td>\n",
       "      <td>California</td>\n",
       "      <td>...</td>\n",
       "      <td>1/12/1934</td>\n",
       "      <td>Graduate Degree</td>\n",
       "      <td>Management</td>\n",
       "      <td>F</td>\n",
       "      <td>M</td>\n",
       "      <td>1</td>\n",
       "      <td>2</td>\n",
       "      <td>0</td>\n",
       "      <td>4</td>\n",
       "      <td>103985</td>\n",
       "    </tr>\n",
       "    <tr>\n",
       "      <th>3</th>\n",
       "      <td>13749</td>\n",
       "      <td>NaN</td>\n",
       "      <td>Julio</td>\n",
       "      <td>C</td>\n",
       "      <td>Alonso</td>\n",
       "      <td>NaN</td>\n",
       "      <td>8945 Euclid Ave.</td>\n",
       "      <td>NaN</td>\n",
       "      <td>Burlingame</td>\n",
       "      <td>California</td>\n",
       "      <td>...</td>\n",
       "      <td>9/22/1958</td>\n",
       "      <td>Graduate Degree</td>\n",
       "      <td>Skilled Manual</td>\n",
       "      <td>M</td>\n",
       "      <td>M</td>\n",
       "      <td>1</td>\n",
       "      <td>0</td>\n",
       "      <td>0</td>\n",
       "      <td>4</td>\n",
       "      <td>127161</td>\n",
       "    </tr>\n",
       "    <tr>\n",
       "      <th>4</th>\n",
       "      <td>27780</td>\n",
       "      <td>NaN</td>\n",
       "      <td>Christy</td>\n",
       "      <td>A</td>\n",
       "      <td>Andersen</td>\n",
       "      <td>NaN</td>\n",
       "      <td>42, boulevard Tremblay</td>\n",
       "      <td>NaN</td>\n",
       "      <td>Dunkerque</td>\n",
       "      <td>Nord</td>\n",
       "      <td>...</td>\n",
       "      <td>3/19/1965</td>\n",
       "      <td>High School</td>\n",
       "      <td>Manual</td>\n",
       "      <td>F</td>\n",
       "      <td>M</td>\n",
       "      <td>1</td>\n",
       "      <td>1</td>\n",
       "      <td>2</td>\n",
       "      <td>2</td>\n",
       "      <td>21876</td>\n",
       "    </tr>\n",
       "  </tbody>\n",
       "</table>\n",
       "<p>5 rows × 23 columns</p>\n",
       "</div>"
      ],
      "text/plain": [
       "   CustomerID Title FirstName MiddleName  LastName Suffix  \\\n",
       "0       18988   NaN  Courtney          A     Baker    NaN   \n",
       "1       29135   NaN      Adam          C     Allen    NaN   \n",
       "2       12156   NaN    Bonnie        NaN      Raji    NaN   \n",
       "3       13749   NaN     Julio          C    Alonso    NaN   \n",
       "4       27780   NaN   Christy          A  Andersen    NaN   \n",
       "\n",
       "             AddressLine1 AddressLine2        City StateProvinceName  \\\n",
       "0   8727 Buena Vista Ave.          NaN     Fremont        California   \n",
       "1        3491 Cook Street          NaN       Haney  British Columbia   \n",
       "2    359 Pleasant Hill Rd          NaN     Burbank        California   \n",
       "3        8945 Euclid Ave.          NaN  Burlingame        California   \n",
       "4  42, boulevard Tremblay          NaN   Dunkerque              Nord   \n",
       "\n",
       "       ...       BirthDate        Education      Occupation Gender  \\\n",
       "0      ...        1/5/1945       Bachelors       Management      F   \n",
       "1      ...       10/4/1964       Bachelors   Skilled Manual      M   \n",
       "2      ...       1/12/1934  Graduate Degree      Management      F   \n",
       "3      ...       9/22/1958  Graduate Degree  Skilled Manual      M   \n",
       "4      ...       3/19/1965      High School          Manual      F   \n",
       "\n",
       "  MaritalStatus HomeOwnerFlag NumberCarsOwned NumberChildrenAtHome  \\\n",
       "0             S             0               2                    0   \n",
       "1             M             1               2                    2   \n",
       "2             M             1               2                    0   \n",
       "3             M             1               0                    0   \n",
       "4             M             1               1                    2   \n",
       "\n",
       "   TotalChildren  YearlyIncome  \n",
       "0              5         86931  \n",
       "1              4        100125  \n",
       "2              4        103985  \n",
       "3              4        127161  \n",
       "4              2         21876  \n",
       "\n",
       "[5 rows x 23 columns]"
      ]
     },
     "execution_count": 79,
     "metadata": {},
     "output_type": "execute_result"
    }
   ],
   "source": [
    "ads_test = pd.read_csv('AW_test.csv')\n",
    "ads_test.head()"
   ]
  },
  {
   "cell_type": "code",
   "execution_count": 80,
   "metadata": {},
   "outputs": [],
   "source": [
    "# Calculate age of customer based on birthdate\n",
    "def calculate_age(end):\n",
    "    r = relativedelta(pd.to_datetime('now'), pd.to_datetime(end)) \n",
    "    return '{}'.format(r.years)\n",
    "\n",
    "\n",
    "ads_test['Age'] = ads_test['BirthDate'].apply(calculate_age)\n",
    "\n",
    "# Convert age to integer\n",
    "ads_test['Age'] = ads_test['Age'].astype('int64')"
   ]
  },
  {
   "cell_type": "code",
   "execution_count": 81,
   "metadata": {},
   "outputs": [
    {
     "data": {
      "text/html": [
       "<div>\n",
       "<style scoped>\n",
       "    .dataframe tbody tr th:only-of-type {\n",
       "        vertical-align: middle;\n",
       "    }\n",
       "\n",
       "    .dataframe tbody tr th {\n",
       "        vertical-align: top;\n",
       "    }\n",
       "\n",
       "    .dataframe thead th {\n",
       "        text-align: right;\n",
       "    }\n",
       "</style>\n",
       "<table border=\"1\" class=\"dataframe\">\n",
       "  <thead>\n",
       "    <tr style=\"text-align: right;\">\n",
       "      <th></th>\n",
       "      <th>CountryRegionName</th>\n",
       "      <th>Education</th>\n",
       "      <th>Occupation</th>\n",
       "      <th>Gender</th>\n",
       "      <th>MaritalStatus</th>\n",
       "      <th>HomeOwnerFlag</th>\n",
       "      <th>NumberCarsOwned</th>\n",
       "      <th>NumberChildrenAtHome</th>\n",
       "      <th>TotalChildren</th>\n",
       "      <th>YearlyIncome</th>\n",
       "      <th>Age</th>\n",
       "    </tr>\n",
       "  </thead>\n",
       "  <tbody>\n",
       "    <tr>\n",
       "      <th>0</th>\n",
       "      <td>United States</td>\n",
       "      <td>Bachelors</td>\n",
       "      <td>Management</td>\n",
       "      <td>F</td>\n",
       "      <td>S</td>\n",
       "      <td>0</td>\n",
       "      <td>2</td>\n",
       "      <td>0</td>\n",
       "      <td>5</td>\n",
       "      <td>86931</td>\n",
       "      <td>74</td>\n",
       "    </tr>\n",
       "    <tr>\n",
       "      <th>1</th>\n",
       "      <td>Canada</td>\n",
       "      <td>Bachelors</td>\n",
       "      <td>Skilled Manual</td>\n",
       "      <td>M</td>\n",
       "      <td>M</td>\n",
       "      <td>1</td>\n",
       "      <td>2</td>\n",
       "      <td>2</td>\n",
       "      <td>4</td>\n",
       "      <td>100125</td>\n",
       "      <td>54</td>\n",
       "    </tr>\n",
       "    <tr>\n",
       "      <th>2</th>\n",
       "      <td>United States</td>\n",
       "      <td>Graduate Degree</td>\n",
       "      <td>Management</td>\n",
       "      <td>F</td>\n",
       "      <td>M</td>\n",
       "      <td>1</td>\n",
       "      <td>2</td>\n",
       "      <td>0</td>\n",
       "      <td>4</td>\n",
       "      <td>103985</td>\n",
       "      <td>85</td>\n",
       "    </tr>\n",
       "    <tr>\n",
       "      <th>3</th>\n",
       "      <td>United States</td>\n",
       "      <td>Graduate Degree</td>\n",
       "      <td>Skilled Manual</td>\n",
       "      <td>M</td>\n",
       "      <td>M</td>\n",
       "      <td>1</td>\n",
       "      <td>0</td>\n",
       "      <td>0</td>\n",
       "      <td>4</td>\n",
       "      <td>127161</td>\n",
       "      <td>60</td>\n",
       "    </tr>\n",
       "    <tr>\n",
       "      <th>4</th>\n",
       "      <td>France</td>\n",
       "      <td>High School</td>\n",
       "      <td>Manual</td>\n",
       "      <td>F</td>\n",
       "      <td>M</td>\n",
       "      <td>1</td>\n",
       "      <td>1</td>\n",
       "      <td>2</td>\n",
       "      <td>2</td>\n",
       "      <td>21876</td>\n",
       "      <td>53</td>\n",
       "    </tr>\n",
       "  </tbody>\n",
       "</table>\n",
       "</div>"
      ],
      "text/plain": [
       "  CountryRegionName        Education      Occupation Gender MaritalStatus  \\\n",
       "0     United States       Bachelors       Management      F             S   \n",
       "1            Canada       Bachelors   Skilled Manual      M             M   \n",
       "2     United States  Graduate Degree      Management      F             M   \n",
       "3     United States  Graduate Degree  Skilled Manual      M             M   \n",
       "4            France      High School          Manual      F             M   \n",
       "\n",
       "   HomeOwnerFlag  NumberCarsOwned  NumberChildrenAtHome  TotalChildren  \\\n",
       "0              0                2                     0              5   \n",
       "1              1                2                     2              4   \n",
       "2              1                2                     0              4   \n",
       "3              1                0                     0              4   \n",
       "4              1                1                     2              2   \n",
       "\n",
       "   YearlyIncome  Age  \n",
       "0         86931   74  \n",
       "1        100125   54  \n",
       "2        103985   85  \n",
       "3        127161   60  \n",
       "4         21876   53  "
      ]
     },
     "execution_count": 81,
     "metadata": {},
     "output_type": "execute_result"
    }
   ],
   "source": [
    "ads_totest = ads_test[['CountryRegionName','Education','Occupation','Gender',\n",
    "                      'MaritalStatus','HomeOwnerFlag','NumberCarsOwned',\n",
    "                      'NumberChildrenAtHome','TotalChildren','YearlyIncome',\n",
    "                      'Age']]\n",
    "\n",
    "ads_totest.head()"
   ]
  },
  {
   "cell_type": "code",
   "execution_count": 82,
   "metadata": {},
   "outputs": [
    {
     "name": "stdout",
     "output_type": "stream",
     "text": [
      "(500, 22)\n"
     ]
    }
   ],
   "source": [
    "# Encode categorical data\n",
    "def encode_string(cat_features):\n",
    "    \n",
    "    ## First encode the strings to numeric categories\n",
    "    enc = preprocessing.LabelEncoder()\n",
    "    enc.fit(cat_features)\n",
    "    enc_cat_features = enc.transform(cat_features)\n",
    "    \n",
    "    ## Now, apply one hot encoding\n",
    "    ohe = preprocessing.OneHotEncoder()\n",
    "    encoded = ohe.fit(enc_cat_features.reshape(-1,1))\n",
    "    return encoded.transform(enc_cat_features.reshape(-1,1)).toarray()\n",
    "\n",
    "categorical_columns = ['Education','Occupation',\n",
    "                       'Gender','MaritalStatus','HomeOwnerFlag']\n",
    "\n",
    "Features = encode_string(ads_totest['CountryRegionName'])\n",
    "\n",
    "for col in categorical_columns:\n",
    "    temp = encode_string(ads_totest[col])\n",
    "    Features = np.concatenate([Features, temp], axis = 1)\n",
    "    \n",
    "print(Features.shape)"
   ]
  },
  {
   "cell_type": "code",
   "execution_count": 83,
   "metadata": {},
   "outputs": [
    {
     "name": "stdout",
     "output_type": "stream",
     "text": [
      "(500, 27)\n"
     ]
    }
   ],
   "source": [
    "# Add numerical feature\n",
    "Features = np.concatenate([Features, np.array(ads_totest[['NumberCarsOwned',\n",
    "                                                        'NumberChildrenAtHome',\n",
    "                                                        'TotalChildren',\n",
    "                                                        'YearlyIncome','Age']])], axis = 1)\n",
    "\n",
    "print(Features.shape)"
   ]
  },
  {
   "cell_type": "code",
   "execution_count": 84,
   "metadata": {},
   "outputs": [],
   "source": [
    "X_test = Features\n",
    "X_test[:,23:] = scaler.transform(X_test[:,23:])"
   ]
  },
  {
   "cell_type": "code",
   "execution_count": 85,
   "metadata": {},
   "outputs": [
    {
     "name": "stdout",
     "output_type": "stream",
     "text": [
      "[ 40.16992188 104.2734375   46.44335938  86.19140625  58.21289062\n",
      "  40.57226562  93.2265625  124.66796875 100.3359375   53.9375\n",
      "  56.81787109  48.44140625  69.99804688  44.15283203  35.34912109\n",
      "  48.94921875  83.42578125  70.45703125 109.50976562  56.91992188\n",
      "  66.13085938  73.453125   146.94921875  82.53125     52.734375\n",
      "  72.78515625  84.18359375 114.63916016  74.8203125   59.57617188\n",
      "  66.59765625  78.14453125  37.04296875  69.35546875 103.52734375\n",
      " 102.02734375 146.68164062  90.04296875  56.359375    84.546875\n",
      "  44.265625    78.08007812  80.12695312  46.12890625  55.8046875\n",
      "  73.59765625  59.07617188  84.63671875 114.09375     77.921875\n",
      "  79.3125      92.875       78.81445312  62.3046875   44.40332031\n",
      "  73.53515625  55.18457031  72.65771484  61.81445312  67.77539062\n",
      "  43.734375    62.890625    88.37207031  80.82421875  41.69726562\n",
      "  78.48046875  79.58203125 130.73632812  63.76953125 104.14404297\n",
      "  83.31640625  66.1171875   90.66943359  42.01757812  63.19042969\n",
      "  79.76660156 113.02294922  66.359375    59.70703125  45.19335938\n",
      "  85.1015625   69.93408203  45.3203125   87.11132812  83.40625\n",
      "  45.89453125  83.796875   117.94921875  95.31835938  52.51953125\n",
      "  51.2265625   92.73242188  35.83984375  46.74609375  35.5859375\n",
      " 136.88671875  57.875       47.5703125   42.94921875  50.875\n",
      " 103.98828125  71.5703125   46.72460938 116.98046875  84.4296875\n",
      " 101.92675781  30.25        44.16992188  44.9921875   58.24804688\n",
      "  93.99902344  45.69140625  82.71875     61.02734375  74.74023438\n",
      "  82.8203125   36.52734375  38.56591797  43.36767578  85.51269531\n",
      " 121.99609375  85.54394531  80.12353516  36.7421875   76.37353516\n",
      "  54.67724609  62.59765625  88.46484375  84.09765625 121.546875\n",
      "  35.46630859  85.93359375 118.25195312  41.45703125  47.08203125\n",
      " 110.6640625  148.88183594  81.56445312  82.70166016  81.7421875\n",
      "  87.65625     39.77978516 113.39453125  33.54248047  75.81640625\n",
      "  59.20263672  48.09765625  34.5078125   62.6640625   63.13476562\n",
      "  97.07617188  69.1875      65.57470703  74.27734375 104.84179688\n",
      "  35.44921875  74.7890625   65.28125     78.375       93.58496094\n",
      "  35.88867188  69.57958984  57.8828125   94.37695312 105.64453125\n",
      "  55.81835938  95.0546875  101.60742188  89.90234375  35.1796875\n",
      "  78.2265625   75.52734375  76.5703125   77.85351562  38.4453125\n",
      "  29.83984375 106.46484375  69.97265625  48.43164062 132.66259766\n",
      "  33.52929688  36.25       104.14453125  71.3671875   29.34765625\n",
      "  38.8203125   58.7421875   62.6015625   47.91015625  56.42382812\n",
      "  78.20703125  78.92578125  73.8828125   79.98242188  87.86132812\n",
      "  68.2890625   45.00390625  73.2734375   48.6640625   92.21679688\n",
      "  55.79492188  76.91796875  28.5546875   76.03320312 128.21875\n",
      "  79.89648438 113.17773438  95.73046875  64.55078125  70.17773438\n",
      "  74.54980469  67.40625    118.625       39.16064453  42.46875\n",
      "  77.03125     41.44140625  56.51171875  77.50390625  77.84375\n",
      "  37.84765625  74.73828125 100.20703125  65.27734375  58.62890625\n",
      "  44.57275391  57.12060547  98.96289062  79.92529297  85.765625\n",
      "  87.91992188  48.61328125  71.5078125   64.671875   104.62695312\n",
      "  66.171875    90.23632812  93.52734375  38.6796875   69.99853516\n",
      "  84.22802734  62.52929688  36.1171875   55.56445312  66.5625\n",
      "  44.296875    75.765625    68.578125    77.578125    82.97363281\n",
      " 103.953125    54.85546875  49.953125    36.60546875 127.56640625\n",
      "  91.86035156  48.1640625   77.00390625 120.5625      79.56445312\n",
      "  38.31640625  66.57519531  86.01757812  65.07226562  80.27880859\n",
      "  66.6640625   40.08984375  74.57421875 107.82617188  57.50927734\n",
      " 107.06640625  38.6640625   84.02148438  63.02392578 102.60986328\n",
      "  39.74609375 136.03515625  47.984375   115.97265625  73.4609375\n",
      "  87.95458984  58.66210938  70.69091797  56.87109375  50.77441406\n",
      "  28.12890625  73.08056641  39.0703125   41.515625    66.51171875\n",
      "  76.828125    48.36328125  83.87109375 139.5703125   72.1171875\n",
      " 108.10742188 136.40429688  37.9453125   62.93359375  32.54736328\n",
      "  43.41015625  54.04296875 115.11523438 100.23046875  75.64453125\n",
      "  33.62109375  97.87695312 142.19726562 121.25390625  74.83789062\n",
      "  39.34179688 104.55859375 148.34228516  52.640625    76.90625\n",
      "  41.52099609  34.51660156  63.4921875  140.22460938  72.08007812\n",
      "  69.08984375  63.39111328  48.5546875   32.14257812 135.37304688\n",
      "  56.1796875   39.61962891  79.95703125  54.95703125  43.6953125\n",
      "  87.79296875  81.0625     112.11914062  53.0859375   68.58203125\n",
      " 111.48242188  76.50390625  35.67724609 113.48828125  45.328125\n",
      "  88.69384766  72.3671875   73.25878906  74.7109375   71.63574219\n",
      "  60.40625     77.4453125   55.46875    109.6015625   78.4375\n",
      "  69.87695312  75.6953125   42.0390625   56.18457031  48.515625\n",
      "  87.90429688  81.14453125  52.08544922  58.50390625  51.31005859\n",
      " 108.69921875  66.25        72.57421875  75.22265625  68.43359375\n",
      "  57.81884766  40.6484375   48.7109375   42.25        62.09375\n",
      " 134.07519531  38.7109375   89.3359375   69.046875    82.10546875\n",
      "  42.765625    74.44873047  40.890625    35.63330078 137.8046875\n",
      "  94.86328125  79.7421875   28.875       84.20898438  42.01953125\n",
      "  77.94140625 115.7421875   43.79492188  86.4296875   78.66210938\n",
      "  89.71875     53.7109375  118.66992188  72.23828125  42.03076172\n",
      "  73.9375      80.3359375   36.78710938  61.8984375   71.23632812\n",
      "  46.42578125 139.83398438 111.41796875  90.84033203  57.3671875\n",
      "  84.671875   102.8515625   42.93505859  78.546875    44.6171875\n",
      " 104.08984375  61.58203125  75.140625    56.8671875   85.29882812\n",
      "  73.453125    82.19775391 142.43359375  96.95654297  65.86572266\n",
      "  70.68359375  30.89453125  52.96875     65.30078125  51.89257812\n",
      "  43.80664062  46.3671875   58.30664062  59.00732422  59.69140625\n",
      "  37.0390625   97.95703125  89.70263672 114.10644531 110.9765625\n",
      "  77.08203125  67.0546875   72.09179688  72.2421875   88.5078125\n",
      "  49.2890625  105.24609375  89.8671875  111.80273438  35.44921875\n",
      "  76.13427734  43.59375    106.83203125  62.328125    41.89453125\n",
      "  53.27099609 114.4609375   84.21875     50.16796875  74.5703125\n",
      "  49.8515625   79.17578125  68.14013672  46.3125      90.59765625\n",
      "  82.76757812  35.40039062  99.8828125   37.2890625  101.08984375\n",
      "  77.89453125  51.1953125   84.88085938  50.08203125  57.53759766\n",
      "  45.01171875  86.92578125  91.25        44.58984375  57.609375\n",
      "  65.359375    65.         134.29101562 127.59765625 124.82226562\n",
      " 128.20507812  78.62695312 108.9140625   72.08203125  70.13085938\n",
      "  26.01171875 143.63476562  47.6796875   85.34570312  89.0390625\n",
      "  70.49804688  98.0625     135.5234375   75.44873047  54.90625\n",
      "  45.3046875   88.00634766  80.92382812  53.18798828  28.203125  ]\n"
     ]
    }
   ],
   "source": [
    "scores = lin_mod.predict(X_test)\n",
    "print(scores)"
   ]
  },
  {
   "cell_type": "code",
   "execution_count": 86,
   "metadata": {},
   "outputs": [],
   "source": [
    "result_regression = pd.DataFrame(scores, index = ads_test['CustomerID'],columns=['AveMonthSpend'])\n",
    "\n",
    "result_regression\n",
    "result_regression.to_csv('result_regression.csv')"
   ]
  },
  {
   "cell_type": "code",
   "execution_count": null,
   "metadata": {},
   "outputs": [],
   "source": []
  }
 ],
 "metadata": {
  "kernelspec": {
   "display_name": "Python 3",
   "language": "python",
   "name": "python3"
  },
  "language_info": {
   "codemirror_mode": {
    "name": "ipython",
    "version": 3
   },
   "file_extension": ".py",
   "mimetype": "text/x-python",
   "name": "python",
   "nbconvert_exporter": "python",
   "pygments_lexer": "ipython3",
   "version": "3.7.0"
  }
 },
 "nbformat": 4,
 "nbformat_minor": 2
}
